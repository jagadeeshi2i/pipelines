{
 "cells": [
  {
   "cell_type": "code",
   "execution_count": 25,
   "metadata": {},
   "outputs": [],
   "source": [
    "# Copyright (c) Facebook, Inc. and its affiliates.\n",
    "# Licensed under the Apache License, Version 2.0 (the \"License\");\n",
    "# you may not use this file except in compliance with the License.\n",
    "# You may obtain a copy of the License at\n",
    "#\n",
    "#    http://www.apache.org/licenses/LICENSE-2.0\n",
    "#\n",
    "# Unless required by applicable law or agreed to in writing, software\n",
    "# distributed under the License is distributed on an \"AS IS\" BASIS,\n",
    "# WITHOUT WARRANTIES OR CONDITIONS OF ANY KIND, either express or implied.\n",
    "# See the License for the specific language governing permissions and\n",
    "# limitations under the License."
   ]
  },
  {
   "cell_type": "markdown",
   "metadata": {},
   "source": [
    "# Bert Pipeline : PyTorch BERT News Classfication\n",
    "\n",
    "This notebook shows PyTorch BERT end-to-end news classification example using Kubeflow Pipelines.\n",
    "\n",
    "\n",
    "An example notebook that demonstrates how to:\n",
    "\n",
    "* Get different tasks needed for the pipeline\n",
    "* Create a Kubeflow pipeline\n",
    "* Include Pytorch KFP components to preprocess, train, visualize and deploy the model in the pipeline\n",
    "* Submit a job for execution\n",
    "* Query(prediction and explain) the final deployed model\n",
    "* Interpretation of the model using the Captum Insights\n"
   ]
  },
  {
   "cell_type": "code",
   "execution_count": 1,
   "metadata": {
    "tags": []
   },
   "outputs": [
    {
     "name": "stdout",
     "output_type": "stream",
     "text": [
      "Found existing installation: kfp 1.0.4\n",
      "Uninstalling kfp-1.0.4:\n",
      "  Successfully uninstalled kfp-1.0.4\n",
      "Collecting kfp\n",
      "  Downloading kfp-1.6.4.tar.gz (225 kB)\n",
      "\u001b[K     |████████████████████████████████| 225 kB 8.3 MB/s eta 0:00:01\n",
      "\u001b[?25hCollecting absl-py<=0.11,>=0.9\n",
      "  Downloading absl_py-0.11.0-py3-none-any.whl (127 kB)\n",
      "\u001b[K     |████████████████████████████████| 127 kB 31.8 MB/s eta 0:00:01\n",
      "\u001b[?25hRequirement already satisfied: PyYAML<6,>=5.3 in /opt/conda/lib/python3.8/site-packages (from kfp) (5.4.1)\n",
      "Requirement already satisfied: google-cloud-storage<2,>=1.20.0 in /opt/conda/lib/python3.8/site-packages (from kfp) (1.37.1)\n",
      "Requirement already satisfied: kubernetes<13,>=8.0.0 in /opt/conda/lib/python3.8/site-packages (from kfp) (10.0.1)\n",
      "Collecting google-api-python-client<2,>=1.7.8\n",
      "  Downloading google_api_python_client-1.12.8-py2.py3-none-any.whl (61 kB)\n",
      "\u001b[K     |████████████████████████████████| 61 kB 1.9 MB/s  eta 0:00:01\n",
      "\u001b[?25hRequirement already satisfied: google-auth<2,>=1.6.1 in /opt/conda/lib/python3.8/site-packages (from kfp) (1.28.1)\n",
      "Requirement already satisfied: requests-toolbelt<1,>=0.8.0 in /opt/conda/lib/python3.8/site-packages (from kfp) (0.9.1)\n",
      "Requirement already satisfied: cloudpickle<2,>=1.3.0 in /opt/conda/lib/python3.8/site-packages (from kfp) (1.6.0)\n",
      "Collecting kfp-server-api<2.0.0,>=1.1.2\n",
      "  Downloading kfp-server-api-1.6.0.tar.gz (52 kB)\n",
      "\u001b[K     |████████████████████████████████| 52 kB 42.3 MB/s eta 0:00:01\n",
      "\u001b[?25hRequirement already satisfied: jsonschema<4,>=3.0.1 in /opt/conda/lib/python3.8/site-packages (from kfp) (3.2.0)\n",
      "Requirement already satisfied: tabulate<1,>=0.8.6 in /opt/conda/lib/python3.8/site-packages (from kfp) (0.8.9)\n",
      "Requirement already satisfied: click<8,>=7.1.1 in /opt/conda/lib/python3.8/site-packages (from kfp) (7.1.2)\n",
      "Requirement already satisfied: Deprecated<2,>=1.2.7 in /opt/conda/lib/python3.8/site-packages (from kfp) (1.2.12)\n",
      "Requirement already satisfied: strip-hints<1,>=0.1.8 in /opt/conda/lib/python3.8/site-packages (from kfp) (0.1.9)\n",
      "Collecting docstring-parser<1,>=0.7.3\n",
      "  Downloading docstring_parser-0.8.1.tar.gz (14 kB)\n",
      "  Installing build dependencies ... \u001b[?25ldone\n",
      "\u001b[?25h  Getting requirements to build wheel ... \u001b[?25ldone\n",
      "\u001b[?25h    Preparing wheel metadata ... \u001b[?25ldone\n",
      "\u001b[?25hCollecting kfp-pipeline-spec<0.2.0,>=0.1.8\n",
      "  Downloading kfp_pipeline_spec-0.1.8-py3-none-any.whl (27 kB)\n",
      "Collecting fire<1,>=0.3.1\n",
      "  Downloading fire-0.4.0.tar.gz (87 kB)\n",
      "\u001b[K     |████████████████████████████████| 87 kB 41.4 MB/s eta 0:00:01\n",
      "\u001b[?25hRequirement already satisfied: protobuf<4,>=3.13.0 in /opt/conda/lib/python3.8/site-packages (from kfp) (3.15.7)\n",
      "Requirement already satisfied: six in /opt/conda/lib/python3.8/site-packages (from absl-py<=0.11,>=0.9->kfp) (1.15.0)\n",
      "Requirement already satisfied: wrapt<2,>=1.10 in /opt/conda/lib/python3.8/site-packages (from Deprecated<2,>=1.2.7->kfp) (1.12.1)\n",
      "Collecting termcolor\n",
      "  Downloading termcolor-1.1.0.tar.gz (3.9 kB)\n",
      "Collecting google-auth-httplib2>=0.0.3\n",
      "  Downloading google_auth_httplib2-0.1.0-py2.py3-none-any.whl (9.3 kB)\n",
      "Requirement already satisfied: google-api-core<2dev,>=1.21.0 in /opt/conda/lib/python3.8/site-packages (from google-api-python-client<2,>=1.7.8->kfp) (1.26.3)\n",
      "Collecting httplib2<1dev,>=0.15.0\n",
      "  Downloading httplib2-0.19.1-py3-none-any.whl (95 kB)\n",
      "\u001b[K     |████████████████████████████████| 95 kB 31.3 MB/s eta 0:00:01\n",
      "\u001b[?25hCollecting uritemplate<4dev,>=3.0.0\n",
      "  Downloading uritemplate-3.0.1-py2.py3-none-any.whl (15 kB)\n",
      "Requirement already satisfied: requests<3.0.0dev,>=2.18.0 in /opt/conda/lib/python3.8/site-packages (from google-api-core<2dev,>=1.21.0->google-api-python-client<2,>=1.7.8->kfp) (2.25.1)\n",
      "Requirement already satisfied: pytz in /opt/conda/lib/python3.8/site-packages (from google-api-core<2dev,>=1.21.0->google-api-python-client<2,>=1.7.8->kfp) (2021.1)\n",
      "Requirement already satisfied: googleapis-common-protos<2.0dev,>=1.6.0 in /opt/conda/lib/python3.8/site-packages (from google-api-core<2dev,>=1.21.0->google-api-python-client<2,>=1.7.8->kfp) (1.53.0)\n",
      "Requirement already satisfied: packaging>=14.3 in /opt/conda/lib/python3.8/site-packages (from google-api-core<2dev,>=1.21.0->google-api-python-client<2,>=1.7.8->kfp) (20.9)\n",
      "Requirement already satisfied: setuptools>=40.3.0 in /opt/conda/lib/python3.8/site-packages (from google-api-core<2dev,>=1.21.0->google-api-python-client<2,>=1.7.8->kfp) (49.6.0.post20210108)\n",
      "Requirement already satisfied: cachetools<5.0,>=2.0.0 in /opt/conda/lib/python3.8/site-packages (from google-auth<2,>=1.6.1->kfp) (4.2.1)\n",
      "Requirement already satisfied: pyasn1-modules>=0.2.1 in /opt/conda/lib/python3.8/site-packages (from google-auth<2,>=1.6.1->kfp) (0.2.8)\n",
      "Requirement already satisfied: rsa<5,>=3.1.4 in /opt/conda/lib/python3.8/site-packages (from google-auth<2,>=1.6.1->kfp) (4.7.2)\n",
      "Requirement already satisfied: google-resumable-media<2.0dev,>=1.2.0 in /opt/conda/lib/python3.8/site-packages (from google-cloud-storage<2,>=1.20.0->kfp) (1.2.0)\n",
      "Requirement already satisfied: google-cloud-core<2.0dev,>=1.4.1 in /opt/conda/lib/python3.8/site-packages (from google-cloud-storage<2,>=1.20.0->kfp) (1.6.0)\n",
      "Requirement already satisfied: google-crc32c<2.0dev,>=1.0 in /opt/conda/lib/python3.8/site-packages (from google-resumable-media<2.0dev,>=1.2.0->google-cloud-storage<2,>=1.20.0->kfp) (1.1.2)\n",
      "Requirement already satisfied: cffi>=1.0.0 in /opt/conda/lib/python3.8/site-packages (from google-crc32c<2.0dev,>=1.0->google-resumable-media<2.0dev,>=1.2.0->google-cloud-storage<2,>=1.20.0->kfp) (1.14.5)\n",
      "Requirement already satisfied: pycparser in /opt/conda/lib/python3.8/site-packages (from cffi>=1.0.0->google-crc32c<2.0dev,>=1.0->google-resumable-media<2.0dev,>=1.2.0->google-cloud-storage<2,>=1.20.0->kfp) (2.20)\n",
      "Requirement already satisfied: pyparsing<3,>=2.4.2 in /opt/conda/lib/python3.8/site-packages (from httplib2<1dev,>=0.15.0->google-api-python-client<2,>=1.7.8->kfp) (2.4.7)\n",
      "Requirement already satisfied: attrs>=17.4.0 in /opt/conda/lib/python3.8/site-packages (from jsonschema<4,>=3.0.1->kfp) (20.3.0)\n",
      "Requirement already satisfied: pyrsistent>=0.14.0 in /opt/conda/lib/python3.8/site-packages (from jsonschema<4,>=3.0.1->kfp) (0.17.3)\n",
      "Requirement already satisfied: urllib3>=1.15 in /opt/conda/lib/python3.8/site-packages (from kfp-server-api<2.0.0,>=1.1.2->kfp) (1.26.4)\n",
      "Requirement already satisfied: certifi in /opt/conda/lib/python3.8/site-packages (from kfp-server-api<2.0.0,>=1.1.2->kfp) (2020.12.5)\n",
      "Requirement already satisfied: python-dateutil in /opt/conda/lib/python3.8/site-packages (from kfp-server-api<2.0.0,>=1.1.2->kfp) (2.8.1)\n",
      "Requirement already satisfied: websocket-client!=0.40.0,!=0.41.*,!=0.42.*,>=0.32.0 in /opt/conda/lib/python3.8/site-packages (from kubernetes<13,>=8.0.0->kfp) (0.58.0)\n",
      "Requirement already satisfied: requests-oauthlib in /opt/conda/lib/python3.8/site-packages (from kubernetes<13,>=8.0.0->kfp) (1.3.0)\n",
      "Requirement already satisfied: pyasn1<0.5.0,>=0.4.6 in /opt/conda/lib/python3.8/site-packages (from pyasn1-modules>=0.2.1->google-auth<2,>=1.6.1->kfp) (0.4.8)\n",
      "Requirement already satisfied: idna<3,>=2.5 in /opt/conda/lib/python3.8/site-packages (from requests<3.0.0dev,>=2.18.0->google-api-core<2dev,>=1.21.0->google-api-python-client<2,>=1.7.8->kfp) (2.10)\n",
      "Requirement already satisfied: chardet<5,>=3.0.2 in /opt/conda/lib/python3.8/site-packages (from requests<3.0.0dev,>=2.18.0->google-api-core<2dev,>=1.21.0->google-api-python-client<2,>=1.7.8->kfp) (4.0.0)\n",
      "Requirement already satisfied: wheel in /opt/conda/lib/python3.8/site-packages (from strip-hints<1,>=0.1.8->kfp) (0.36.2)\n",
      "Requirement already satisfied: oauthlib>=3.0.0 in /opt/conda/lib/python3.8/site-packages (from requests-oauthlib->kubernetes<13,>=8.0.0->kfp) (3.1.0)\n",
      "Building wheels for collected packages: kfp, docstring-parser, fire, kfp-server-api, termcolor\n",
      "  Building wheel for kfp (setup.py) ... \u001b[?25ldone\n",
      "\u001b[?25h  Created wheel for kfp: filename=kfp-1.6.4-py3-none-any.whl size=307978 sha256=b84ed9d21da915d5dea6868bd1d552e8164496b1ebafb0416eff9d62bef134e5\n",
      "  Stored in directory: /tmp/pip-ephem-wheel-cache-4b7l_jlg/wheels/94/27/d3/4e61074deae41e0ef5f166343fc7540eb85536c3d49f4cd25f\n",
      "  Building wheel for docstring-parser (PEP 517) ... \u001b[?25ldone\n",
      "\u001b[?25h  Created wheel for docstring-parser: filename=docstring_parser-0.8.1-py3-none-any.whl size=19678 sha256=d14390fa19d384e42f231452cf1fa4fc1b75a0e8381e9f9f81d033ea92de17f6\n",
      "  Stored in directory: /tmp/pip-ephem-wheel-cache-4b7l_jlg/wheels/7a/06/c4/9b2f0146899e8d1e7748897e42ad5412b6a025513f89cc4a0f\n",
      "  Building wheel for fire (setup.py) ... \u001b[?25ldone\n",
      "\u001b[?25h  Created wheel for fire: filename=fire-0.4.0-py2.py3-none-any.whl size=115928 sha256=199fb46829b58f62d3783bab87b03840e93219ba4e2d6c6b61a4c27ecf90fe7f\n",
      "  Stored in directory: /tmp/pip-ephem-wheel-cache-4b7l_jlg/wheels/1f/10/06/2a990ee4d73a8479fe2922445e8a876d38cfbfed052284c6a1\n",
      "  Building wheel for kfp-server-api (setup.py) ... \u001b[?25ldone\n",
      "\u001b[?25h  Created wheel for kfp-server-api: filename=kfp_server_api-1.6.0-py3-none-any.whl size=92524 sha256=8326e6cef36dfe2e87219ca26cf4efaf73e140411e12d7c543aa51326d758b6b\n",
      "  Stored in directory: /tmp/pip-ephem-wheel-cache-4b7l_jlg/wheels/73/72/bd/804c3bcea41a99dc328a623d003ba9d7d243f2a59a767ef28c\n",
      "  Building wheel for termcolor (setup.py) ... \u001b[?25ldone\n",
      "\u001b[?25h  Created wheel for termcolor: filename=termcolor-1.1.0-py3-none-any.whl size=4829 sha256=93f14a3a14366de3122659b8ef5b4ff478386ffb0d539205221f5e0d81272129\n",
      "  Stored in directory: /tmp/pip-ephem-wheel-cache-4b7l_jlg/wheels/a0/16/9c/5473df82468f958445479c59e784896fa24f4a5fc024b0f501\n",
      "Successfully built kfp docstring-parser fire kfp-server-api termcolor\n",
      "Installing collected packages: httplib2, uritemplate, termcolor, google-auth-httplib2, kfp-server-api, kfp-pipeline-spec, google-api-python-client, fire, docstring-parser, absl-py, kfp\n",
      "  Attempting uninstall: kfp-server-api\n",
      "    Found existing installation: kfp-server-api 1.0.4\n",
      "    Uninstalling kfp-server-api-1.0.4:\n",
      "      Successfully uninstalled kfp-server-api-1.0.4\n",
      "Successfully installed absl-py-0.11.0 docstring-parser-0.8.1 fire-0.4.0 google-api-python-client-1.12.8 google-auth-httplib2-0.1.0 httplib2-0.19.1 kfp-1.6.4 kfp-pipeline-spec-0.1.8 kfp-server-api-1.6.0 termcolor-1.1.0 uritemplate-3.0.1\n"
     ]
    }
   ],
   "source": [
    "! pip uninstall -y kfp\n",
    "! pip install --no-cache-dir kfp"
   ]
  },
  {
   "cell_type": "code",
   "execution_count": 2,
   "metadata": {},
   "outputs": [
    {
     "data": {
      "text/plain": [
       "'1.6.4'"
      ]
     },
     "execution_count": 2,
     "metadata": {},
     "output_type": "execute_result"
    }
   ],
   "source": [
    "import kfp\n",
    "import json\n",
    "import os\n",
    "from kfp.onprem import use_k8s_secret\n",
    "from kfp import components\n",
    "from kfp.components import load_component_from_file, load_component_from_url, InputPath\n",
    "from kfp import dsl\n",
    "from kfp import compiler\n",
    "\n",
    "kfp.__version__"
   ]
  },
  {
   "cell_type": "markdown",
   "metadata": {},
   "source": [
    "# Enter your gateway and the cookie\n",
    "[Use this extension on chrome to get token]( https://chrome.google.com/webstore/detail/editthiscookie/fngmhnnpilhplaeedifhccceomclgfbg?hl=en)\n",
    "\n",
    "![image.png](./image.png)"
   ]
  },
  {
   "cell_type": "markdown",
   "metadata": {},
   "source": [
    "## Update values for the ingress gateway and auth session"
   ]
  },
  {
   "cell_type": "code",
   "execution_count": 47,
   "metadata": {},
   "outputs": [],
   "source": [
    "INGRESS_GATEWAY='http://istio-ingressgateway.istio-system.svc.cluster.local'\n",
    "AUTH=\"MTYyNTIzNTA3NHxOd3dBTkVFMVVWa3lVME5NVlU1U05scFRURUZIVEZKUVJFZFlURmRDUlRkS1VVOURXVmRWUlZWQ1dsVkdUa2MwVGpkSVNGTkdOVUU9fBAgszyYKCvL3VzWbK1_wa0iWvVljICLmD5H8TTSQw3n\"\n",
    "NAMESPACE=\"kubeflow-user-example-com\"\n",
    "COOKIE=\"authservice_session=\"+AUTH\n",
    "EXPERIMENT=\"Default\"\n",
    "dist_volume = 'dist-vol'"
   ]
  },
  {
   "cell_type": "markdown",
   "metadata": {},
   "source": [
    "## Set Log bucket and Tensorboard Image"
   ]
  },
  {
   "cell_type": "code",
   "execution_count": 48,
   "metadata": {},
   "outputs": [],
   "source": [
    "MINIO_ENDPOINT=\"http://minio-service.kubeflow:9000\"\n",
    "LOG_BUCKET=\"mlpipeline\"\n",
    "TENSORBOARD_IMAGE=\"public.ecr.aws/pytorch-samples/tboard:latest\""
   ]
  },
  {
   "cell_type": "code",
   "execution_count": 49,
   "metadata": {},
   "outputs": [],
   "source": [
    "client = kfp.Client(host=INGRESS_GATEWAY+\"/pipeline\", cookies=COOKIE)"
   ]
  },
  {
   "cell_type": "code",
   "execution_count": 50,
   "metadata": {},
   "outputs": [
    {
     "data": {
      "text/html": [
       "<a href=\"http://istio-ingressgateway.istio-system.svc.cluster.local/pipeline/#/experiments/details/ba9b7266-2b1c-4729-afcd-be808c25c5af\" target=\"_blank\" >Experiment details</a>."
      ],
      "text/plain": [
       "<IPython.core.display.HTML object>"
      ]
     },
     "metadata": {},
     "output_type": "display_data"
    },
    {
     "data": {
      "text/plain": [
       "{'created_at': datetime.datetime(2021, 6, 21, 13, 13, 6, tzinfo=tzlocal()),\n",
       " 'description': None,\n",
       " 'id': 'ba9b7266-2b1c-4729-afcd-be808c25c5af',\n",
       " 'name': 'Default',\n",
       " 'resource_references': [{'key': {'id': 'kubeflow-user-example-com',\n",
       "                                  'type': 'NAMESPACE'},\n",
       "                          'name': None,\n",
       "                          'relationship': 'OWNER'}],\n",
       " 'storage_state': 'STORAGESTATE_AVAILABLE'}"
      ]
     },
     "execution_count": 50,
     "metadata": {},
     "output_type": "execute_result"
    }
   ],
   "source": [
    "client.create_experiment(EXPERIMENT)\n",
    "experiments = client.list_experiments(namespace=NAMESPACE)\n",
    "my_experiment = experiments.experiments[0]\n",
    "my_experiment"
   ]
  },
  {
   "cell_type": "code",
   "execution_count": 51,
   "metadata": {},
   "outputs": [],
   "source": [
    "DEPLOY_NAME=\"bertserve\"\n",
    "MODEL_NAME=\"bert\""
   ]
  },
  {
   "cell_type": "code",
   "execution_count": 130,
   "metadata": {},
   "outputs": [
    {
     "ename": "ScannerError",
     "evalue": "while scanning a simple key\n  in \"<byte string>\", line 3, column 1:\n    Artifact To Volume  - true to co ... \n    ^\ncould not find expected ':'\n  in \"<byte string>\", line 5, column 1:\n    inputs:\n    ^",
     "output_type": "error",
     "traceback": [
      "\u001b[0;31m---------------------------------------------------------------------------\u001b[0m",
      "\u001b[0;31mScannerError\u001b[0m                              Traceback (most recent call last)",
      "\u001b[0;32m<ipython-input-130-9b06cf6cb5d2>\u001b[0m in \u001b[0;36m<module>\u001b[0;34m\u001b[0m\n\u001b[1;32m     20\u001b[0m     \u001b[0;34m\"common/volume/component.yaml\"\u001b[0m\u001b[0;34m\u001b[0m\u001b[0;34m\u001b[0m\u001b[0m\n\u001b[1;32m     21\u001b[0m )\n\u001b[0;32m---> 22\u001b[0;31m cp_op = load_component_from_file(\n\u001b[0m\u001b[1;32m     23\u001b[0m     \u001b[0;34m\"common/copy/component.yaml\"\u001b[0m\u001b[0;34m\u001b[0m\u001b[0;34m\u001b[0m\u001b[0m\n\u001b[1;32m     24\u001b[0m )\n",
      "\u001b[0;32m/opt/conda/lib/python3.8/site-packages/kfp/components/_components.py\u001b[0m in \u001b[0;36mload_component_from_file\u001b[0;34m(filename)\u001b[0m\n\u001b[1;32m     94\u001b[0m         \u001b[0mOnce\u001b[0m \u001b[0mcalled\u001b[0m \u001b[0;32mwith\u001b[0m \u001b[0mthe\u001b[0m \u001b[0mrequired\u001b[0m \u001b[0marguments\u001b[0m\u001b[0;34m,\u001b[0m \u001b[0mthe\u001b[0m \u001b[0mfactory\u001b[0m \u001b[0mconstructs\u001b[0m \u001b[0ma\u001b[0m \u001b[0mpipeline\u001b[0m \u001b[0mtask\u001b[0m \u001b[0minstance\u001b[0m \u001b[0;34m(\u001b[0m\u001b[0mContainerOp\u001b[0m\u001b[0;34m)\u001b[0m\u001b[0;34m.\u001b[0m\u001b[0;34m\u001b[0m\u001b[0;34m\u001b[0m\u001b[0m\n\u001b[1;32m     95\u001b[0m     \"\"\"\n\u001b[0;32m---> 96\u001b[0;31m     \u001b[0mcomponent_spec\u001b[0m \u001b[0;34m=\u001b[0m \u001b[0m_load_component_spec_from_file\u001b[0m\u001b[0;34m(\u001b[0m\u001b[0mpath\u001b[0m\u001b[0;34m=\u001b[0m\u001b[0mfilename\u001b[0m\u001b[0;34m)\u001b[0m\u001b[0;34m\u001b[0m\u001b[0;34m\u001b[0m\u001b[0m\n\u001b[0m\u001b[1;32m     97\u001b[0m     return _create_task_factory_from_component_spec(\n\u001b[1;32m     98\u001b[0m         \u001b[0mcomponent_spec\u001b[0m\u001b[0;34m=\u001b[0m\u001b[0mcomponent_spec\u001b[0m\u001b[0;34m,\u001b[0m\u001b[0;34m\u001b[0m\u001b[0;34m\u001b[0m\u001b[0m\n",
      "\u001b[0;32m/opt/conda/lib/python3.8/site-packages/kfp/components/_components.py\u001b[0m in \u001b[0;36m_load_component_spec_from_file\u001b[0;34m(path)\u001b[0m\n\u001b[1;32m    127\u001b[0m \u001b[0;32mdef\u001b[0m \u001b[0m_load_component_spec_from_file\u001b[0m\u001b[0;34m(\u001b[0m\u001b[0mpath\u001b[0m\u001b[0;34m)\u001b[0m \u001b[0;34m->\u001b[0m \u001b[0mComponentSpec\u001b[0m\u001b[0;34m:\u001b[0m\u001b[0;34m\u001b[0m\u001b[0;34m\u001b[0m\u001b[0m\n\u001b[1;32m    128\u001b[0m     \u001b[0;32mwith\u001b[0m \u001b[0mopen\u001b[0m\u001b[0;34m(\u001b[0m\u001b[0mpath\u001b[0m\u001b[0;34m,\u001b[0m \u001b[0;34m'rb'\u001b[0m\u001b[0;34m)\u001b[0m \u001b[0;32mas\u001b[0m \u001b[0mcomponent_stream\u001b[0m\u001b[0;34m:\u001b[0m\u001b[0;34m\u001b[0m\u001b[0;34m\u001b[0m\u001b[0m\n\u001b[0;32m--> 129\u001b[0;31m         \u001b[0;32mreturn\u001b[0m \u001b[0m_load_component_spec_from_yaml_or_zip_bytes\u001b[0m\u001b[0;34m(\u001b[0m\u001b[0mcomponent_stream\u001b[0m\u001b[0;34m.\u001b[0m\u001b[0mread\u001b[0m\u001b[0;34m(\u001b[0m\u001b[0;34m)\u001b[0m\u001b[0;34m)\u001b[0m\u001b[0;34m\u001b[0m\u001b[0;34m\u001b[0m\u001b[0m\n\u001b[0m\u001b[1;32m    130\u001b[0m \u001b[0;34m\u001b[0m\u001b[0m\n\u001b[1;32m    131\u001b[0m \u001b[0;34m\u001b[0m\u001b[0m\n",
      "\u001b[0;32m/opt/conda/lib/python3.8/site-packages/kfp/components/_components.py\u001b[0m in \u001b[0;36m_load_component_spec_from_yaml_or_zip_bytes\u001b[0;34m(data)\u001b[0m\n\u001b[1;32m    157\u001b[0m         \u001b[0;32mwith\u001b[0m \u001b[0mzipfile\u001b[0m\u001b[0;34m.\u001b[0m\u001b[0mZipFile\u001b[0m\u001b[0;34m(\u001b[0m\u001b[0mstream\u001b[0m\u001b[0;34m)\u001b[0m \u001b[0;32mas\u001b[0m \u001b[0mzip_obj\u001b[0m\u001b[0;34m:\u001b[0m\u001b[0;34m\u001b[0m\u001b[0;34m\u001b[0m\u001b[0m\n\u001b[1;32m    158\u001b[0m             \u001b[0mdata\u001b[0m \u001b[0;34m=\u001b[0m \u001b[0mzip_obj\u001b[0m\u001b[0;34m.\u001b[0m\u001b[0mread\u001b[0m\u001b[0;34m(\u001b[0m\u001b[0m_COMPONENT_FILE_NAME_IN_ARCHIVE\u001b[0m\u001b[0;34m)\u001b[0m\u001b[0;34m\u001b[0m\u001b[0;34m\u001b[0m\u001b[0m\n\u001b[0;32m--> 159\u001b[0;31m     \u001b[0;32mreturn\u001b[0m \u001b[0m_load_component_spec_from_component_text\u001b[0m\u001b[0;34m(\u001b[0m\u001b[0mdata\u001b[0m\u001b[0;34m)\u001b[0m\u001b[0;34m\u001b[0m\u001b[0;34m\u001b[0m\u001b[0m\n\u001b[0m\u001b[1;32m    160\u001b[0m \u001b[0;34m\u001b[0m\u001b[0m\n\u001b[1;32m    161\u001b[0m \u001b[0;34m\u001b[0m\u001b[0m\n",
      "\u001b[0;32m/opt/conda/lib/python3.8/site-packages/kfp/components/_components.py\u001b[0m in \u001b[0;36m_load_component_spec_from_component_text\u001b[0;34m(text)\u001b[0m\n\u001b[1;32m    161\u001b[0m \u001b[0;34m\u001b[0m\u001b[0m\n\u001b[1;32m    162\u001b[0m \u001b[0;32mdef\u001b[0m \u001b[0m_load_component_spec_from_component_text\u001b[0m\u001b[0;34m(\u001b[0m\u001b[0mtext\u001b[0m\u001b[0;34m)\u001b[0m \u001b[0;34m->\u001b[0m \u001b[0mComponentSpec\u001b[0m\u001b[0;34m:\u001b[0m\u001b[0;34m\u001b[0m\u001b[0;34m\u001b[0m\u001b[0m\n\u001b[0;32m--> 163\u001b[0;31m     \u001b[0mcomponent_dict\u001b[0m \u001b[0;34m=\u001b[0m \u001b[0mload_yaml\u001b[0m\u001b[0;34m(\u001b[0m\u001b[0mtext\u001b[0m\u001b[0;34m)\u001b[0m\u001b[0;34m\u001b[0m\u001b[0;34m\u001b[0m\u001b[0m\n\u001b[0m\u001b[1;32m    164\u001b[0m     \u001b[0mcomponent_spec\u001b[0m \u001b[0;34m=\u001b[0m \u001b[0mComponentSpec\u001b[0m\u001b[0;34m.\u001b[0m\u001b[0mfrom_dict\u001b[0m\u001b[0;34m(\u001b[0m\u001b[0mcomponent_dict\u001b[0m\u001b[0;34m)\u001b[0m\u001b[0;34m\u001b[0m\u001b[0;34m\u001b[0m\u001b[0m\n\u001b[1;32m    165\u001b[0m \u001b[0;34m\u001b[0m\u001b[0m\n",
      "\u001b[0;32m/opt/conda/lib/python3.8/site-packages/kfp/components/_yaml_utils.py\u001b[0m in \u001b[0;36mload_yaml\u001b[0;34m(stream)\u001b[0m\n\u001b[1;32m     29\u001b[0m             construct_mapping)\n\u001b[1;32m     30\u001b[0m         \u001b[0;32mreturn\u001b[0m \u001b[0myaml\u001b[0m\u001b[0;34m.\u001b[0m\u001b[0mload\u001b[0m\u001b[0;34m(\u001b[0m\u001b[0mstream\u001b[0m\u001b[0;34m,\u001b[0m \u001b[0mOrderedLoader\u001b[0m\u001b[0;34m)\u001b[0m\u001b[0;34m\u001b[0m\u001b[0;34m\u001b[0m\u001b[0m\n\u001b[0;32m---> 31\u001b[0;31m     \u001b[0;32mreturn\u001b[0m \u001b[0mordered_load\u001b[0m\u001b[0;34m(\u001b[0m\u001b[0mstream\u001b[0m\u001b[0;34m)\u001b[0m\u001b[0;34m\u001b[0m\u001b[0;34m\u001b[0m\u001b[0m\n\u001b[0m\u001b[1;32m     32\u001b[0m \u001b[0;34m\u001b[0m\u001b[0m\n\u001b[1;32m     33\u001b[0m \u001b[0;32mdef\u001b[0m \u001b[0mdump_yaml\u001b[0m\u001b[0;34m(\u001b[0m\u001b[0mdata\u001b[0m\u001b[0;34m)\u001b[0m\u001b[0;34m:\u001b[0m\u001b[0;34m\u001b[0m\u001b[0;34m\u001b[0m\u001b[0m\n",
      "\u001b[0;32m/opt/conda/lib/python3.8/site-packages/kfp/components/_yaml_utils.py\u001b[0m in \u001b[0;36mordered_load\u001b[0;34m(stream, Loader, object_pairs_hook)\u001b[0m\n\u001b[1;32m     28\u001b[0m             \u001b[0myaml\u001b[0m\u001b[0;34m.\u001b[0m\u001b[0mresolver\u001b[0m\u001b[0;34m.\u001b[0m\u001b[0mBaseResolver\u001b[0m\u001b[0;34m.\u001b[0m\u001b[0mDEFAULT_MAPPING_TAG\u001b[0m\u001b[0;34m,\u001b[0m\u001b[0;34m\u001b[0m\u001b[0;34m\u001b[0m\u001b[0m\n\u001b[1;32m     29\u001b[0m             construct_mapping)\n\u001b[0;32m---> 30\u001b[0;31m         \u001b[0;32mreturn\u001b[0m \u001b[0myaml\u001b[0m\u001b[0;34m.\u001b[0m\u001b[0mload\u001b[0m\u001b[0;34m(\u001b[0m\u001b[0mstream\u001b[0m\u001b[0;34m,\u001b[0m \u001b[0mOrderedLoader\u001b[0m\u001b[0;34m)\u001b[0m\u001b[0;34m\u001b[0m\u001b[0;34m\u001b[0m\u001b[0m\n\u001b[0m\u001b[1;32m     31\u001b[0m     \u001b[0;32mreturn\u001b[0m \u001b[0mordered_load\u001b[0m\u001b[0;34m(\u001b[0m\u001b[0mstream\u001b[0m\u001b[0;34m)\u001b[0m\u001b[0;34m\u001b[0m\u001b[0;34m\u001b[0m\u001b[0m\n\u001b[1;32m     32\u001b[0m \u001b[0;34m\u001b[0m\u001b[0m\n",
      "\u001b[0;32m/opt/conda/lib/python3.8/site-packages/yaml/__init__.py\u001b[0m in \u001b[0;36mload\u001b[0;34m(stream, Loader)\u001b[0m\n\u001b[1;32m    112\u001b[0m     \u001b[0mloader\u001b[0m \u001b[0;34m=\u001b[0m \u001b[0mLoader\u001b[0m\u001b[0;34m(\u001b[0m\u001b[0mstream\u001b[0m\u001b[0;34m)\u001b[0m\u001b[0;34m\u001b[0m\u001b[0;34m\u001b[0m\u001b[0m\n\u001b[1;32m    113\u001b[0m     \u001b[0;32mtry\u001b[0m\u001b[0;34m:\u001b[0m\u001b[0;34m\u001b[0m\u001b[0;34m\u001b[0m\u001b[0m\n\u001b[0;32m--> 114\u001b[0;31m         \u001b[0;32mreturn\u001b[0m \u001b[0mloader\u001b[0m\u001b[0;34m.\u001b[0m\u001b[0mget_single_data\u001b[0m\u001b[0;34m(\u001b[0m\u001b[0;34m)\u001b[0m\u001b[0;34m\u001b[0m\u001b[0;34m\u001b[0m\u001b[0m\n\u001b[0m\u001b[1;32m    115\u001b[0m     \u001b[0;32mfinally\u001b[0m\u001b[0;34m:\u001b[0m\u001b[0;34m\u001b[0m\u001b[0;34m\u001b[0m\u001b[0m\n\u001b[1;32m    116\u001b[0m         \u001b[0mloader\u001b[0m\u001b[0;34m.\u001b[0m\u001b[0mdispose\u001b[0m\u001b[0;34m(\u001b[0m\u001b[0;34m)\u001b[0m\u001b[0;34m\u001b[0m\u001b[0;34m\u001b[0m\u001b[0m\n",
      "\u001b[0;32m/opt/conda/lib/python3.8/site-packages/yaml/constructor.py\u001b[0m in \u001b[0;36mget_single_data\u001b[0;34m(self)\u001b[0m\n\u001b[1;32m     47\u001b[0m     \u001b[0;32mdef\u001b[0m \u001b[0mget_single_data\u001b[0m\u001b[0;34m(\u001b[0m\u001b[0mself\u001b[0m\u001b[0;34m)\u001b[0m\u001b[0;34m:\u001b[0m\u001b[0;34m\u001b[0m\u001b[0;34m\u001b[0m\u001b[0m\n\u001b[1;32m     48\u001b[0m         \u001b[0;31m# Ensure that the stream contains a single document and construct it.\u001b[0m\u001b[0;34m\u001b[0m\u001b[0;34m\u001b[0m\u001b[0;34m\u001b[0m\u001b[0m\n\u001b[0;32m---> 49\u001b[0;31m         \u001b[0mnode\u001b[0m \u001b[0;34m=\u001b[0m \u001b[0mself\u001b[0m\u001b[0;34m.\u001b[0m\u001b[0mget_single_node\u001b[0m\u001b[0;34m(\u001b[0m\u001b[0;34m)\u001b[0m\u001b[0;34m\u001b[0m\u001b[0;34m\u001b[0m\u001b[0m\n\u001b[0m\u001b[1;32m     50\u001b[0m         \u001b[0;32mif\u001b[0m \u001b[0mnode\u001b[0m \u001b[0;32mis\u001b[0m \u001b[0;32mnot\u001b[0m \u001b[0;32mNone\u001b[0m\u001b[0;34m:\u001b[0m\u001b[0;34m\u001b[0m\u001b[0;34m\u001b[0m\u001b[0m\n\u001b[1;32m     51\u001b[0m             \u001b[0;32mreturn\u001b[0m \u001b[0mself\u001b[0m\u001b[0;34m.\u001b[0m\u001b[0mconstruct_document\u001b[0m\u001b[0;34m(\u001b[0m\u001b[0mnode\u001b[0m\u001b[0;34m)\u001b[0m\u001b[0;34m\u001b[0m\u001b[0;34m\u001b[0m\u001b[0m\n",
      "\u001b[0;32m/opt/conda/lib/python3.8/site-packages/yaml/composer.py\u001b[0m in \u001b[0;36mget_single_node\u001b[0;34m(self)\u001b[0m\n\u001b[1;32m     34\u001b[0m         \u001b[0mdocument\u001b[0m \u001b[0;34m=\u001b[0m \u001b[0;32mNone\u001b[0m\u001b[0;34m\u001b[0m\u001b[0;34m\u001b[0m\u001b[0m\n\u001b[1;32m     35\u001b[0m         \u001b[0;32mif\u001b[0m \u001b[0;32mnot\u001b[0m \u001b[0mself\u001b[0m\u001b[0;34m.\u001b[0m\u001b[0mcheck_event\u001b[0m\u001b[0;34m(\u001b[0m\u001b[0mStreamEndEvent\u001b[0m\u001b[0;34m)\u001b[0m\u001b[0;34m:\u001b[0m\u001b[0;34m\u001b[0m\u001b[0;34m\u001b[0m\u001b[0m\n\u001b[0;32m---> 36\u001b[0;31m             \u001b[0mdocument\u001b[0m \u001b[0;34m=\u001b[0m \u001b[0mself\u001b[0m\u001b[0;34m.\u001b[0m\u001b[0mcompose_document\u001b[0m\u001b[0;34m(\u001b[0m\u001b[0;34m)\u001b[0m\u001b[0;34m\u001b[0m\u001b[0;34m\u001b[0m\u001b[0m\n\u001b[0m\u001b[1;32m     37\u001b[0m \u001b[0;34m\u001b[0m\u001b[0m\n\u001b[1;32m     38\u001b[0m         \u001b[0;31m# Ensure that the stream contains no more documents.\u001b[0m\u001b[0;34m\u001b[0m\u001b[0;34m\u001b[0m\u001b[0;34m\u001b[0m\u001b[0m\n",
      "\u001b[0;32m/opt/conda/lib/python3.8/site-packages/yaml/composer.py\u001b[0m in \u001b[0;36mcompose_document\u001b[0;34m(self)\u001b[0m\n\u001b[1;32m     53\u001b[0m \u001b[0;34m\u001b[0m\u001b[0m\n\u001b[1;32m     54\u001b[0m         \u001b[0;31m# Compose the root node.\u001b[0m\u001b[0;34m\u001b[0m\u001b[0;34m\u001b[0m\u001b[0;34m\u001b[0m\u001b[0m\n\u001b[0;32m---> 55\u001b[0;31m         \u001b[0mnode\u001b[0m \u001b[0;34m=\u001b[0m \u001b[0mself\u001b[0m\u001b[0;34m.\u001b[0m\u001b[0mcompose_node\u001b[0m\u001b[0;34m(\u001b[0m\u001b[0;32mNone\u001b[0m\u001b[0;34m,\u001b[0m \u001b[0;32mNone\u001b[0m\u001b[0;34m)\u001b[0m\u001b[0;34m\u001b[0m\u001b[0;34m\u001b[0m\u001b[0m\n\u001b[0m\u001b[1;32m     56\u001b[0m \u001b[0;34m\u001b[0m\u001b[0m\n\u001b[1;32m     57\u001b[0m         \u001b[0;31m# Drop the DOCUMENT-END event.\u001b[0m\u001b[0;34m\u001b[0m\u001b[0;34m\u001b[0m\u001b[0;34m\u001b[0m\u001b[0m\n",
      "\u001b[0;32m/opt/conda/lib/python3.8/site-packages/yaml/composer.py\u001b[0m in \u001b[0;36mcompose_node\u001b[0;34m(self, parent, index)\u001b[0m\n\u001b[1;32m     82\u001b[0m             \u001b[0mnode\u001b[0m \u001b[0;34m=\u001b[0m \u001b[0mself\u001b[0m\u001b[0;34m.\u001b[0m\u001b[0mcompose_sequence_node\u001b[0m\u001b[0;34m(\u001b[0m\u001b[0manchor\u001b[0m\u001b[0;34m)\u001b[0m\u001b[0;34m\u001b[0m\u001b[0;34m\u001b[0m\u001b[0m\n\u001b[1;32m     83\u001b[0m         \u001b[0;32melif\u001b[0m \u001b[0mself\u001b[0m\u001b[0;34m.\u001b[0m\u001b[0mcheck_event\u001b[0m\u001b[0;34m(\u001b[0m\u001b[0mMappingStartEvent\u001b[0m\u001b[0;34m)\u001b[0m\u001b[0;34m:\u001b[0m\u001b[0;34m\u001b[0m\u001b[0;34m\u001b[0m\u001b[0m\n\u001b[0;32m---> 84\u001b[0;31m             \u001b[0mnode\u001b[0m \u001b[0;34m=\u001b[0m \u001b[0mself\u001b[0m\u001b[0;34m.\u001b[0m\u001b[0mcompose_mapping_node\u001b[0m\u001b[0;34m(\u001b[0m\u001b[0manchor\u001b[0m\u001b[0;34m)\u001b[0m\u001b[0;34m\u001b[0m\u001b[0;34m\u001b[0m\u001b[0m\n\u001b[0m\u001b[1;32m     85\u001b[0m         \u001b[0mself\u001b[0m\u001b[0;34m.\u001b[0m\u001b[0mascend_resolver\u001b[0m\u001b[0;34m(\u001b[0m\u001b[0;34m)\u001b[0m\u001b[0;34m\u001b[0m\u001b[0;34m\u001b[0m\u001b[0m\n\u001b[1;32m     86\u001b[0m         \u001b[0;32mreturn\u001b[0m \u001b[0mnode\u001b[0m\u001b[0;34m\u001b[0m\u001b[0;34m\u001b[0m\u001b[0m\n",
      "\u001b[0;32m/opt/conda/lib/python3.8/site-packages/yaml/composer.py\u001b[0m in \u001b[0;36mcompose_mapping_node\u001b[0;34m(self, anchor)\u001b[0m\n\u001b[1;32m    125\u001b[0m         \u001b[0;32mif\u001b[0m \u001b[0manchor\u001b[0m \u001b[0;32mis\u001b[0m \u001b[0;32mnot\u001b[0m \u001b[0;32mNone\u001b[0m\u001b[0;34m:\u001b[0m\u001b[0;34m\u001b[0m\u001b[0;34m\u001b[0m\u001b[0m\n\u001b[1;32m    126\u001b[0m             \u001b[0mself\u001b[0m\u001b[0;34m.\u001b[0m\u001b[0manchors\u001b[0m\u001b[0;34m[\u001b[0m\u001b[0manchor\u001b[0m\u001b[0;34m]\u001b[0m \u001b[0;34m=\u001b[0m \u001b[0mnode\u001b[0m\u001b[0;34m\u001b[0m\u001b[0;34m\u001b[0m\u001b[0m\n\u001b[0;32m--> 127\u001b[0;31m         \u001b[0;32mwhile\u001b[0m \u001b[0;32mnot\u001b[0m \u001b[0mself\u001b[0m\u001b[0;34m.\u001b[0m\u001b[0mcheck_event\u001b[0m\u001b[0;34m(\u001b[0m\u001b[0mMappingEndEvent\u001b[0m\u001b[0;34m)\u001b[0m\u001b[0;34m:\u001b[0m\u001b[0;34m\u001b[0m\u001b[0;34m\u001b[0m\u001b[0m\n\u001b[0m\u001b[1;32m    128\u001b[0m             \u001b[0;31m#key_event = self.peek_event()\u001b[0m\u001b[0;34m\u001b[0m\u001b[0;34m\u001b[0m\u001b[0;34m\u001b[0m\u001b[0m\n\u001b[1;32m    129\u001b[0m             \u001b[0mitem_key\u001b[0m \u001b[0;34m=\u001b[0m \u001b[0mself\u001b[0m\u001b[0;34m.\u001b[0m\u001b[0mcompose_node\u001b[0m\u001b[0;34m(\u001b[0m\u001b[0mnode\u001b[0m\u001b[0;34m,\u001b[0m \u001b[0;32mNone\u001b[0m\u001b[0;34m)\u001b[0m\u001b[0;34m\u001b[0m\u001b[0;34m\u001b[0m\u001b[0m\n",
      "\u001b[0;32m/opt/conda/lib/python3.8/site-packages/yaml/parser.py\u001b[0m in \u001b[0;36mcheck_event\u001b[0;34m(self, *choices)\u001b[0m\n\u001b[1;32m     96\u001b[0m         \u001b[0;32mif\u001b[0m \u001b[0mself\u001b[0m\u001b[0;34m.\u001b[0m\u001b[0mcurrent_event\u001b[0m \u001b[0;32mis\u001b[0m \u001b[0;32mNone\u001b[0m\u001b[0;34m:\u001b[0m\u001b[0;34m\u001b[0m\u001b[0;34m\u001b[0m\u001b[0m\n\u001b[1;32m     97\u001b[0m             \u001b[0;32mif\u001b[0m \u001b[0mself\u001b[0m\u001b[0;34m.\u001b[0m\u001b[0mstate\u001b[0m\u001b[0;34m:\u001b[0m\u001b[0;34m\u001b[0m\u001b[0;34m\u001b[0m\u001b[0m\n\u001b[0;32m---> 98\u001b[0;31m                 \u001b[0mself\u001b[0m\u001b[0;34m.\u001b[0m\u001b[0mcurrent_event\u001b[0m \u001b[0;34m=\u001b[0m \u001b[0mself\u001b[0m\u001b[0;34m.\u001b[0m\u001b[0mstate\u001b[0m\u001b[0;34m(\u001b[0m\u001b[0;34m)\u001b[0m\u001b[0;34m\u001b[0m\u001b[0;34m\u001b[0m\u001b[0m\n\u001b[0m\u001b[1;32m     99\u001b[0m         \u001b[0;32mif\u001b[0m \u001b[0mself\u001b[0m\u001b[0;34m.\u001b[0m\u001b[0mcurrent_event\u001b[0m \u001b[0;32mis\u001b[0m \u001b[0;32mnot\u001b[0m \u001b[0;32mNone\u001b[0m\u001b[0;34m:\u001b[0m\u001b[0;34m\u001b[0m\u001b[0;34m\u001b[0m\u001b[0m\n\u001b[1;32m    100\u001b[0m             \u001b[0;32mif\u001b[0m \u001b[0;32mnot\u001b[0m \u001b[0mchoices\u001b[0m\u001b[0;34m:\u001b[0m\u001b[0;34m\u001b[0m\u001b[0;34m\u001b[0m\u001b[0m\n",
      "\u001b[0;32m/opt/conda/lib/python3.8/site-packages/yaml/parser.py\u001b[0m in \u001b[0;36mparse_block_mapping_key\u001b[0;34m(self)\u001b[0m\n\u001b[1;32m    426\u001b[0m \u001b[0;34m\u001b[0m\u001b[0m\n\u001b[1;32m    427\u001b[0m     \u001b[0;32mdef\u001b[0m \u001b[0mparse_block_mapping_key\u001b[0m\u001b[0;34m(\u001b[0m\u001b[0mself\u001b[0m\u001b[0;34m)\u001b[0m\u001b[0;34m:\u001b[0m\u001b[0;34m\u001b[0m\u001b[0;34m\u001b[0m\u001b[0m\n\u001b[0;32m--> 428\u001b[0;31m         \u001b[0;32mif\u001b[0m \u001b[0mself\u001b[0m\u001b[0;34m.\u001b[0m\u001b[0mcheck_token\u001b[0m\u001b[0;34m(\u001b[0m\u001b[0mKeyToken\u001b[0m\u001b[0;34m)\u001b[0m\u001b[0;34m:\u001b[0m\u001b[0;34m\u001b[0m\u001b[0;34m\u001b[0m\u001b[0m\n\u001b[0m\u001b[1;32m    429\u001b[0m             \u001b[0mtoken\u001b[0m \u001b[0;34m=\u001b[0m \u001b[0mself\u001b[0m\u001b[0;34m.\u001b[0m\u001b[0mget_token\u001b[0m\u001b[0;34m(\u001b[0m\u001b[0;34m)\u001b[0m\u001b[0;34m\u001b[0m\u001b[0;34m\u001b[0m\u001b[0m\n\u001b[1;32m    430\u001b[0m             \u001b[0;32mif\u001b[0m \u001b[0;32mnot\u001b[0m \u001b[0mself\u001b[0m\u001b[0;34m.\u001b[0m\u001b[0mcheck_token\u001b[0m\u001b[0;34m(\u001b[0m\u001b[0mKeyToken\u001b[0m\u001b[0;34m,\u001b[0m \u001b[0mValueToken\u001b[0m\u001b[0;34m,\u001b[0m \u001b[0mBlockEndToken\u001b[0m\u001b[0;34m)\u001b[0m\u001b[0;34m:\u001b[0m\u001b[0;34m\u001b[0m\u001b[0;34m\u001b[0m\u001b[0m\n",
      "\u001b[0;32m/opt/conda/lib/python3.8/site-packages/yaml/scanner.py\u001b[0m in \u001b[0;36mcheck_token\u001b[0;34m(self, *choices)\u001b[0m\n\u001b[1;32m    113\u001b[0m     \u001b[0;32mdef\u001b[0m \u001b[0mcheck_token\u001b[0m\u001b[0;34m(\u001b[0m\u001b[0mself\u001b[0m\u001b[0;34m,\u001b[0m \u001b[0;34m*\u001b[0m\u001b[0mchoices\u001b[0m\u001b[0;34m)\u001b[0m\u001b[0;34m:\u001b[0m\u001b[0;34m\u001b[0m\u001b[0;34m\u001b[0m\u001b[0m\n\u001b[1;32m    114\u001b[0m         \u001b[0;31m# Check if the next token is one of the given types.\u001b[0m\u001b[0;34m\u001b[0m\u001b[0;34m\u001b[0m\u001b[0;34m\u001b[0m\u001b[0m\n\u001b[0;32m--> 115\u001b[0;31m         \u001b[0;32mwhile\u001b[0m \u001b[0mself\u001b[0m\u001b[0;34m.\u001b[0m\u001b[0mneed_more_tokens\u001b[0m\u001b[0;34m(\u001b[0m\u001b[0;34m)\u001b[0m\u001b[0;34m:\u001b[0m\u001b[0;34m\u001b[0m\u001b[0;34m\u001b[0m\u001b[0m\n\u001b[0m\u001b[1;32m    116\u001b[0m             \u001b[0mself\u001b[0m\u001b[0;34m.\u001b[0m\u001b[0mfetch_more_tokens\u001b[0m\u001b[0;34m(\u001b[0m\u001b[0;34m)\u001b[0m\u001b[0;34m\u001b[0m\u001b[0;34m\u001b[0m\u001b[0m\n\u001b[1;32m    117\u001b[0m         \u001b[0;32mif\u001b[0m \u001b[0mself\u001b[0m\u001b[0;34m.\u001b[0m\u001b[0mtokens\u001b[0m\u001b[0;34m:\u001b[0m\u001b[0;34m\u001b[0m\u001b[0;34m\u001b[0m\u001b[0m\n",
      "\u001b[0;32m/opt/conda/lib/python3.8/site-packages/yaml/scanner.py\u001b[0m in \u001b[0;36mneed_more_tokens\u001b[0;34m(self)\u001b[0m\n\u001b[1;32m    150\u001b[0m         \u001b[0;31m# The current token may be a potential simple key, so we\u001b[0m\u001b[0;34m\u001b[0m\u001b[0;34m\u001b[0m\u001b[0;34m\u001b[0m\u001b[0m\n\u001b[1;32m    151\u001b[0m         \u001b[0;31m# need to look further.\u001b[0m\u001b[0;34m\u001b[0m\u001b[0;34m\u001b[0m\u001b[0;34m\u001b[0m\u001b[0m\n\u001b[0;32m--> 152\u001b[0;31m         \u001b[0mself\u001b[0m\u001b[0;34m.\u001b[0m\u001b[0mstale_possible_simple_keys\u001b[0m\u001b[0;34m(\u001b[0m\u001b[0;34m)\u001b[0m\u001b[0;34m\u001b[0m\u001b[0;34m\u001b[0m\u001b[0m\n\u001b[0m\u001b[1;32m    153\u001b[0m         \u001b[0;32mif\u001b[0m \u001b[0mself\u001b[0m\u001b[0;34m.\u001b[0m\u001b[0mnext_possible_simple_key\u001b[0m\u001b[0;34m(\u001b[0m\u001b[0;34m)\u001b[0m \u001b[0;34m==\u001b[0m \u001b[0mself\u001b[0m\u001b[0;34m.\u001b[0m\u001b[0mtokens_taken\u001b[0m\u001b[0;34m:\u001b[0m\u001b[0;34m\u001b[0m\u001b[0;34m\u001b[0m\u001b[0m\n\u001b[1;32m    154\u001b[0m             \u001b[0;32mreturn\u001b[0m \u001b[0;32mTrue\u001b[0m\u001b[0;34m\u001b[0m\u001b[0;34m\u001b[0m\u001b[0m\n",
      "\u001b[0;32m/opt/conda/lib/python3.8/site-packages/yaml/scanner.py\u001b[0m in \u001b[0;36mstale_possible_simple_keys\u001b[0;34m(self)\u001b[0m\n\u001b[1;32m    289\u001b[0m                     \u001b[0;32mor\u001b[0m \u001b[0mself\u001b[0m\u001b[0;34m.\u001b[0m\u001b[0mindex\u001b[0m\u001b[0;34m-\u001b[0m\u001b[0mkey\u001b[0m\u001b[0;34m.\u001b[0m\u001b[0mindex\u001b[0m \u001b[0;34m>\u001b[0m \u001b[0;36m1024\u001b[0m\u001b[0;34m:\u001b[0m\u001b[0;34m\u001b[0m\u001b[0;34m\u001b[0m\u001b[0m\n\u001b[1;32m    290\u001b[0m                 \u001b[0;32mif\u001b[0m \u001b[0mkey\u001b[0m\u001b[0;34m.\u001b[0m\u001b[0mrequired\u001b[0m\u001b[0;34m:\u001b[0m\u001b[0;34m\u001b[0m\u001b[0;34m\u001b[0m\u001b[0m\n\u001b[0;32m--> 291\u001b[0;31m                     raise ScannerError(\"while scanning a simple key\", key.mark,\n\u001b[0m\u001b[1;32m    292\u001b[0m                             \"could not find expected ':'\", self.get_mark())\n\u001b[1;32m    293\u001b[0m                 \u001b[0;32mdel\u001b[0m \u001b[0mself\u001b[0m\u001b[0;34m.\u001b[0m\u001b[0mpossible_simple_keys\u001b[0m\u001b[0;34m[\u001b[0m\u001b[0mlevel\u001b[0m\u001b[0;34m]\u001b[0m\u001b[0;34m\u001b[0m\u001b[0;34m\u001b[0m\u001b[0m\n",
      "\u001b[0;31mScannerError\u001b[0m: while scanning a simple key\n  in \"<byte string>\", line 3, column 1:\n    Artifact To Volume  - true to co ... \n    ^\ncould not find expected ':'\n  in \"<byte string>\", line 5, column 1:\n    inputs:\n    ^"
     ]
    }
   ],
   "source": [
    "prepare_tensorboard_op = load_component_from_file(\n",
    "    \"common/tensorboard/component.yaml\"\n",
    ")\n",
    "prep_op = components.load_component_from_file(\n",
    "    \"bert/yaml/pre_process/component.yaml\"\n",
    ")\n",
    "train_op = components.load_component_from_file(\n",
    "    \"bert/yaml/train/component.yaml\"\n",
    ")\n",
    "deploy_op = load_component_from_file(\n",
    "    \"common/deploy/component.yaml\"\n",
    ")\n",
    "minio_op = components.load_component_from_file(\n",
    "    \"common/minio/component.yaml\"\n",
    ")\n",
    "pytorch_job_op = load_component_from_file(\n",
    "    \"common/pytorch_job/component.yaml\"\n",
    ")\n",
    "kubernetes_create_pvc_op = load_component_from_file(\n",
    "    \"common/volume/component.yaml\"\n",
    ")\n",
    "cp_op = load_component_from_file(\n",
    "    \"common/copy/component.yaml\"\n",
    ")\n",
    "ls_op = load_component_from_file(\n",
    "    \"common/list/component.yaml\"\n",
    ")"
   ]
  },
  {
   "cell_type": "code",
   "execution_count": 67,
   "metadata": {},
   "outputs": [
    {
     "data": {
      "text/html": [
       "<a href=\"http://istio-ingressgateway.istio-system.svc.cluster.local/pipeline/#/experiments/details/ba9b7266-2b1c-4729-afcd-be808c25c5af\" target=\"_blank\" >Experiment details</a>."
      ],
      "text/plain": [
       "<IPython.core.display.HTML object>"
      ]
     },
     "metadata": {},
     "output_type": "display_data"
    },
    {
     "data": {
      "text/html": [
       "<a href=\"http://istio-ingressgateway.istio-system.svc.cluster.local/pipeline/#/runs/details/1417619f-e48c-498c-80a2-a81330583a25\" target=\"_blank\" >Run details</a>."
      ],
      "text/plain": [
       "<IPython.core.display.HTML object>"
      ]
     },
     "metadata": {},
     "output_type": "display_data"
    },
    {
     "data": {
      "text/plain": [
       "{'pipeline_runtime': {'pipeline_manifest': None,\n",
       "                      'workflow_manifest': '{\"metadata\":{\"name\":\"create-dist-pipeline-9wrnp\",\"generateName\":\"create-dist-pipeline-\",\"namespace\":\"kubeflow-user-example-com\",\"selfLink\":\"/apis/argoproj.io/v1alpha1/namespaces/kubeflow-user-example-com/workflows/create-dist-pipeline-9wrnp\",\"uid\":\"75df041e-efe9-40fb-834e-82ee078ed837\",\"resourceVersion\":\"4559240\",\"generation\":3,\"creationTimestamp\":\"2021-07-02T14:48:26Z\",\"labels\":{\"pipeline/runid\":\"1417619f-e48c-498c-80a2-a81330583a25\",\"pipelines.kubeflow.org/kfp_sdk_version\":\"1.6.4\",\"workflows.argoproj.io/completed\":\"true\",\"workflows.argoproj.io/phase\":\"Succeeded\"},\"annotations\":{\"pipelines.kubeflow.org/kfp_sdk_version\":\"1.6.4\",\"pipelines.kubeflow.org/pipeline_compilation_time\":\"2021-07-02T14:48:26.515837\",\"pipelines.kubeflow.org/pipeline_spec\":\"{\\\\\"name\\\\\": '\n",
       "                                           '\\\\\"Create dist '\n",
       "                                           'pipeline\\\\\"}\",\"pipelines.kubeflow.org/run_name\":\"create_dist_pipeline '\n",
       "                                           '2021-07-02 '\n",
       "                                           '14-48-26\"},\"managedFields\":[{\"manager\":\"apiserver\",\"operation\":\"Update\",\"apiVersion\":\"argoproj.io/v1alpha1\",\"time\":\"2021-07-02T14:48:26Z\",\"fieldsType\":\"FieldsV1\",\"fieldsV1\":{\"f:metadata\":{\"f:annotations\":{\".\":{},\"f:pipelines.kubeflow.org/kfp_sdk_version\":{},\"f:pipelines.kubeflow.org/pipeline_compilation_time\":{},\"f:pipelines.kubeflow.org/pipeline_spec\":{},\"f:pipelines.kubeflow.org/run_name\":{}},\"f:generateName\":{},\"f:labels\":{\".\":{},\"f:pipeline/runid\":{},\"f:pipelines.kubeflow.org/kfp_sdk_version\":{}}},\"f:spec\":{\".\":{},\"f:arguments\":{},\"f:entrypoint\":{},\"f:serviceAccountName\":{},\"f:templates\":{}},\"f:status\":{}}},{\"manager\":\"workflow-controller\",\"operation\":\"Update\",\"apiVersion\":\"argoproj.io/v1alpha1\",\"time\":\"2021-07-02T14:48:36Z\",\"fieldsType\":\"FieldsV1\",\"fieldsV1\":{\"f:metadata\":{\"f:labels\":{\"f:workflows.argoproj.io/completed\":{},\"f:workflows.argoproj.io/phase\":{}}},\"f:status\":{\"f:conditions\":{},\"f:finishedAt\":{},\"f:nodes\":{\".\":{},\"f:create-dist-pipeline-9wrnp\":{\".\":{},\"f:children\":{},\"f:displayName\":{},\"f:finishedAt\":{},\"f:id\":{},\"f:name\":{},\"f:outboundNodes\":{},\"f:phase\":{},\"f:progress\":{},\"f:resourcesDuration\":{\".\":{},\"f:cpu\":{},\"f:memory\":{}},\"f:startedAt\":{},\"f:templateName\":{},\"f:templateScope\":{},\"f:type\":{}},\"f:create-dist-pipeline-9wrnp-2007897329\":{\".\":{},\"f:boundaryID\":{},\"f:displayName\":{},\"f:finishedAt\":{},\"f:id\":{},\"f:name\":{},\"f:outputs\":{\".\":{},\"f:artifacts\":{},\"f:exitCode\":{}},\"f:phase\":{},\"f:progress\":{},\"f:resourcesDuration\":{\".\":{},\"f:cpu\":{},\"f:memory\":{}},\"f:startedAt\":{},\"f:templateName\":{},\"f:templateScope\":{},\"f:type\":{}}},\"f:phase\":{},\"f:progress\":{},\"f:resourcesDuration\":{\".\":{},\"f:cpu\":{},\"f:memory\":{}},\"f:startedAt\":{}}}}]},\"spec\":{\"templates\":[{\"name\":\"create-dist-pipeline\",\"arguments\":{},\"inputs\":{},\"outputs\":{},\"metadata\":{\"annotations\":{\"sidecar.istio.io/inject\":\"false\"},\"labels\":{\"pipelines.kubeflow.org/cache_enabled\":\"true\"}},\"dag\":{\"tasks\":[{\"name\":\"create-persistentvolumeclaim-in-kubernetes\",\"template\":\"create-persistentvolumeclaim-in-kubernetes\",\"arguments\":{}}]}},{\"name\":\"create-persistentvolumeclaim-in-kubernetes\",\"arguments\":{},\"inputs\":{},\"outputs\":{\"artifacts\":[{\"name\":\"create-persistentvolumeclaim-in-kubernetes-Output-Name\",\"path\":\"/tmp/outputs/Output_Name/data\"}]},\"metadata\":{\"annotations\":{\"author\":\"Alexey '\n",
       "                                           'Volkov '\n",
       "                                           '\\\\u003calexey.volkov@ark-kun.com\\\\u003e\",\"pipelines.kubeflow.org/arguments.parameters\":\"{\\\\\"Namespace\\\\\": '\n",
       "                                           '\\\\\"kubeflow-user-example-com\\\\\", '\n",
       "                                           '\\\\\"PVC Name\\\\\": \\\\\"dist-vol\\\\\", '\n",
       "                                           '\\\\\"Storage size\\\\\": '\n",
       "                                           '\\\\\"20Gi\\\\\"}\",\"pipelines.kubeflow.org/component_ref\":\"{\\\\\"digest\\\\\": '\n",
       "                                           '\\\\\"afb7eab21a4c9562b611069dcaa11f7e4652f868d34703725c0d07907fb6de68\\\\\", '\n",
       "                                           '\\\\\"url\\\\\": '\n",
       "                                           '\\\\\"common/volume/component.yaml\\\\\"}\",\"pipelines.kubeflow.org/component_spec\":\"{\\\\\"implementation\\\\\": '\n",
       "                                           '{\\\\\"container\\\\\": {\\\\\"command\\\\\": '\n",
       "                                           '[\\\\\"bash\\\\\", \\\\\"-exc\\\\\", '\n",
       "                                           '\\\\\"pvc_name=$0\\\\\\\\nstorage_size=$1\\\\\\\\noutput_name=$2\\\\\\\\nnamespace=$3\\\\\\\\nmkdir '\n",
       "                                           '-p \\\\\\\\\\\\\"$(dirname '\n",
       "                                           '\\\\\\\\\\\\\"$output_name\\\\\\\\\\\\\")\\\\\\\\\\\\\"\\\\\\\\nobject_path=$(mktemp)\\\\\\\\n\\\\\\\\ncat '\n",
       "                                           '\\\\u003c\\\\u003cEOF '\n",
       "                                           '\\\\u003e\\\\\\\\\\\\\"$object_path\\\\\\\\\\\\\"\\\\\\\\napiVersion: '\n",
       "                                           'v1\\\\\\\\nkind: '\n",
       "                                           'PersistentVolumeClaim\\\\\\\\nmetadata:\\\\\\\\n  '\n",
       "                                           'name: $pvc_name\\\\\\\\n  '\n",
       "                                           'annotations:\\\\\\\\n    '\n",
       "                                           'volume.beta.kubernetes.io/storage-class: '\n",
       "                                           'aws-efs\\\\\\\\nspec:\\\\\\\\n  '\n",
       "                                           'storageClassName: aws-efs\\\\\\\\n  '\n",
       "                                           'accessModes:\\\\\\\\n  - '\n",
       "                                           'ReadWriteMany\\\\\\\\n  '\n",
       "                                           'resources:\\\\\\\\n    '\n",
       "                                           'requests:\\\\\\\\n      storage: '\n",
       "                                           '$storage_size\\\\\\\\nEOF\\\\\\\\nobject_name=$(kubectl '\n",
       "                                           'apply -f '\n",
       "                                           '\\\\\\\\\\\\\"$object_path\\\\\\\\\\\\\" '\n",
       "                                           '--namespace $namespace '\n",
       "                                           '--output=name)\\\\\\\\nobject_name=${object_name##persistentvolumeclaim/}\\\\\\\\necho '\n",
       "                                           '$object_name \\\\u003e '\n",
       "                                           '$output_name\\\\\\\\n\\\\\", '\n",
       "                                           '{\\\\\"inputValue\\\\\": \\\\\"PVC '\n",
       "                                           'Name\\\\\"}, {\\\\\"inputValue\\\\\": '\n",
       "                                           '\\\\\"Storage size\\\\\"}, '\n",
       "                                           '{\\\\\"outputPath\\\\\": \\\\\"Output '\n",
       "                                           'Name\\\\\"}, {\\\\\"inputValue\\\\\": '\n",
       "                                           '\\\\\"Namespace\\\\\"}], \\\\\"image\\\\\": '\n",
       "                                           '\\\\\"bitnami/kubectl:1.17.17\\\\\"}}, '\n",
       "                                           '\\\\\"inputs\\\\\": [{\\\\\"name\\\\\": \\\\\"PVC '\n",
       "                                           'Name\\\\\", \\\\\"type\\\\\": '\n",
       "                                           '\\\\\"String\\\\\"}, {\\\\\"default\\\\\": '\n",
       "                                           '\\\\\"1Gi\\\\\", \\\\\"name\\\\\": \\\\\"Storage '\n",
       "                                           'size\\\\\", \\\\\"type\\\\\": '\n",
       "                                           '\\\\\"String\\\\\"}, {\\\\\"name\\\\\": '\n",
       "                                           '\\\\\"Namespace\\\\\", \\\\\"type\\\\\": '\n",
       "                                           '\\\\\"string\\\\\"}], \\\\\"metadata\\\\\": '\n",
       "                                           '{\\\\\"annotations\\\\\": {\\\\\"author\\\\\": '\n",
       "                                           '\\\\\"Alexey Volkov '\n",
       "                                           '\\\\u003calexey.volkov@ark-kun.com\\\\u003e\\\\\"}}, '\n",
       "                                           '\\\\\"name\\\\\": \\\\\"Create '\n",
       "                                           'PersistentVolumeClaim in '\n",
       "                                           'Kubernetes\\\\\", \\\\\"outputs\\\\\": '\n",
       "                                           '[{\\\\\"name\\\\\": \\\\\"Output Name\\\\\", '\n",
       "                                           '\\\\\"type\\\\\": '\n",
       "                                           '\\\\\"String\\\\\"}]}\",\"sidecar.istio.io/inject\":\"false\"},\"labels\":{\"pipelines.kubeflow.org/cache_enabled\":\"true\",\"pipelines.kubeflow.org/kfp_sdk_version\":\"1.6.4\",\"pipelines.kubeflow.org/pipeline-sdk-type\":\"kfp\"}},\"container\":{\"name\":\"\",\"image\":\"bitnami/kubectl:1.17.17\",\"command\":[\"bash\",\"-exc\",\"pvc_name=$0\\\\nstorage_size=$1\\\\noutput_name=$2\\\\nnamespace=$3\\\\nmkdir '\n",
       "                                           '-p \\\\\"$(dirname '\n",
       "                                           '\\\\\"$output_name\\\\\")\\\\\"\\\\nobject_path=$(mktemp)\\\\n\\\\ncat '\n",
       "                                           '\\\\u003c\\\\u003cEOF '\n",
       "                                           '\\\\u003e\\\\\"$object_path\\\\\"\\\\napiVersion: '\n",
       "                                           'v1\\\\nkind: '\n",
       "                                           'PersistentVolumeClaim\\\\nmetadata:\\\\n  '\n",
       "                                           'name: $pvc_name\\\\n  '\n",
       "                                           'annotations:\\\\n    '\n",
       "                                           'volume.beta.kubernetes.io/storage-class: '\n",
       "                                           'aws-efs\\\\nspec:\\\\n  '\n",
       "                                           'storageClassName: aws-efs\\\\n  '\n",
       "                                           'accessModes:\\\\n  - '\n",
       "                                           'ReadWriteMany\\\\n  resources:\\\\n    '\n",
       "                                           'requests:\\\\n      storage: '\n",
       "                                           '$storage_size\\\\nEOF\\\\nobject_name=$(kubectl '\n",
       "                                           'apply -f \\\\\"$object_path\\\\\" '\n",
       "                                           '--namespace $namespace '\n",
       "                                           '--output=name)\\\\nobject_name=${object_name##persistentvolumeclaim/}\\\\necho '\n",
       "                                           '$object_name \\\\u003e '\n",
       "                                           '$output_name\\\\n\",\"dist-vol\",\"20Gi\",\"/tmp/outputs/Output_Name/data\",\"kubeflow-user-example-com\"],\"resources\":{}}}],\"entrypoint\":\"create-dist-pipeline\",\"arguments\":{},\"serviceAccountName\":\"default-editor\"},\"status\":{\"phase\":\"Succeeded\",\"startedAt\":\"2021-07-02T14:48:26Z\",\"finishedAt\":\"2021-07-02T14:48:36Z\",\"progress\":\"1/1\",\"nodes\":{\"create-dist-pipeline-9wrnp\":{\"id\":\"create-dist-pipeline-9wrnp\",\"name\":\"create-dist-pipeline-9wrnp\",\"displayName\":\"create-dist-pipeline-9wrnp\",\"type\":\"DAG\",\"templateName\":\"create-dist-pipeline\",\"templateScope\":\"local/create-dist-pipeline-9wrnp\",\"phase\":\"Succeeded\",\"startedAt\":\"2021-07-02T14:48:26Z\",\"finishedAt\":\"2021-07-02T14:48:36Z\",\"progress\":\"1/1\",\"resourcesDuration\":{\"cpu\":0,\"memory\":0},\"children\":[\"create-dist-pipeline-9wrnp-2007897329\"],\"outboundNodes\":[\"create-dist-pipeline-9wrnp-2007897329\"]},\"create-dist-pipeline-9wrnp-2007897329\":{\"id\":\"create-dist-pipeline-9wrnp-2007897329\",\"name\":\"create-dist-pipeline-9wrnp.create-persistentvolumeclaim-in-kubernetes\",\"displayName\":\"create-persistentvolumeclaim-in-kubernetes\",\"type\":\"Pod\",\"templateName\":\"create-persistentvolumeclaim-in-kubernetes\",\"templateScope\":\"local/create-dist-pipeline-9wrnp\",\"phase\":\"Succeeded\",\"boundaryID\":\"create-dist-pipeline-9wrnp\",\"startedAt\":\"2021-07-02T14:48:26Z\",\"finishedAt\":\"2021-07-02T14:48:28Z\",\"progress\":\"1/1\",\"resourcesDuration\":{\"cpu\":0,\"memory\":0},\"outputs\":{\"artifacts\":[{\"name\":\"create-persistentvolumeclaim-in-kubernetes-Output-Name\",\"path\":\"/tmp/outputs/Output_Name/data\",\"s3\":{\"endpoint\":\"minio-service.kubeflow:9000\",\"bucket\":\"mlpipeline\",\"insecure\":true,\"accessKeySecret\":{\"name\":\"mlpipeline-minio-artifact\",\"key\":\"accesskey\"},\"secretKeySecret\":{\"name\":\"mlpipeline-minio-artifact\",\"key\":\"secretkey\"},\"key\":\"artifacts/create-dist-pipeline-fxj8v/create-dist-pipeline-fxj8v-2903029679/create-persistentvolumeclaim-in-kubernetes-Output-Name.tgz\"}},{\"name\":\"main-logs\",\"archiveLogs\":true,\"s3\":{\"endpoint\":\"minio-service.kubeflow:9000\",\"bucket\":\"mlpipeline\",\"insecure\":true,\"accessKeySecret\":{\"name\":\"mlpipeline-minio-artifact\",\"key\":\"accesskey\"},\"secretKeySecret\":{\"name\":\"mlpipeline-minio-artifact\",\"key\":\"secretkey\"},\"key\":\"artifacts/create-dist-pipeline-fxj8v/create-dist-pipeline-fxj8v-2903029679/main.log\"}}],\"exitCode\":\"0\"}}},\"conditions\":[{\"type\":\"Completed\",\"status\":\"True\"}],\"resourcesDuration\":{\"cpu\":0,\"memory\":0}}}'},\n",
       " 'run': {'created_at': datetime.datetime(2021, 7, 2, 14, 48, 26, tzinfo=tzlocal()),\n",
       "         'description': None,\n",
       "         'error': None,\n",
       "         'finished_at': datetime.datetime(2021, 7, 2, 14, 48, 36, tzinfo=tzlocal()),\n",
       "         'id': '1417619f-e48c-498c-80a2-a81330583a25',\n",
       "         'metrics': None,\n",
       "         'name': 'create_dist_pipeline 2021-07-02 14-48-26',\n",
       "         'pipeline_spec': {'parameters': None,\n",
       "                           'pipeline_id': None,\n",
       "                           'pipeline_manifest': None,\n",
       "                           'pipeline_name': None,\n",
       "                           'workflow_manifest': '{\"apiVersion\": '\n",
       "                                                '\"argoproj.io/v1alpha1\", '\n",
       "                                                '\"kind\": \"Workflow\", '\n",
       "                                                '\"metadata\": {\"generateName\": '\n",
       "                                                '\"create-dist-pipeline-\", '\n",
       "                                                '\"annotations\": '\n",
       "                                                '{\"pipelines.kubeflow.org/kfp_sdk_version\": '\n",
       "                                                '\"1.6.4\", '\n",
       "                                                '\"pipelines.kubeflow.org/pipeline_compilation_time\": '\n",
       "                                                '\"2021-07-02T14:48:26.515837\", '\n",
       "                                                '\"pipelines.kubeflow.org/pipeline_spec\": '\n",
       "                                                '\"{\\\\\"name\\\\\": \\\\\"Create dist '\n",
       "                                                'pipeline\\\\\"}\"}, \"labels\": '\n",
       "                                                '{\"pipelines.kubeflow.org/kfp_sdk_version\": '\n",
       "                                                '\"1.6.4\"}}, \"spec\": '\n",
       "                                                '{\"entrypoint\": '\n",
       "                                                '\"create-dist-pipeline\", '\n",
       "                                                '\"templates\": [{\"name\": '\n",
       "                                                '\"create-dist-pipeline\", '\n",
       "                                                '\"dag\": {\"tasks\": [{\"name\": '\n",
       "                                                '\"create-persistentvolumeclaim-in-kubernetes\", '\n",
       "                                                '\"template\": '\n",
       "                                                '\"create-persistentvolumeclaim-in-kubernetes\"}]}}, '\n",
       "                                                '{\"name\": '\n",
       "                                                '\"create-persistentvolumeclaim-in-kubernetes\", '\n",
       "                                                '\"container\": {\"args\": [], '\n",
       "                                                '\"command\": [\"bash\", \"-exc\", '\n",
       "                                                '\"pvc_name=$0\\\\nstorage_size=$1\\\\noutput_name=$2\\\\nnamespace=$3\\\\nmkdir '\n",
       "                                                '-p \\\\\"$(dirname '\n",
       "                                                '\\\\\"$output_name\\\\\")\\\\\"\\\\nobject_path=$(mktemp)\\\\n\\\\ncat '\n",
       "                                                '<<EOF '\n",
       "                                                '>\\\\\"$object_path\\\\\"\\\\napiVersion: '\n",
       "                                                'v1\\\\nkind: '\n",
       "                                                'PersistentVolumeClaim\\\\nmetadata:\\\\n  '\n",
       "                                                'name: $pvc_name\\\\n  '\n",
       "                                                'annotations:\\\\n    '\n",
       "                                                'volume.beta.kubernetes.io/storage-class: '\n",
       "                                                'aws-efs\\\\nspec:\\\\n  '\n",
       "                                                'storageClassName: aws-efs\\\\n  '\n",
       "                                                'accessModes:\\\\n  - '\n",
       "                                                'ReadWriteMany\\\\n  '\n",
       "                                                'resources:\\\\n    '\n",
       "                                                'requests:\\\\n      storage: '\n",
       "                                                '$storage_size\\\\nEOF\\\\nobject_name=$(kubectl '\n",
       "                                                'apply -f \\\\\"$object_path\\\\\" '\n",
       "                                                '--namespace $namespace '\n",
       "                                                '--output=name)\\\\nobject_name=${object_name##persistentvolumeclaim/}\\\\necho '\n",
       "                                                '$object_name > '\n",
       "                                                '$output_name\\\\n\", \"dist-vol\", '\n",
       "                                                '\"20Gi\", '\n",
       "                                                '\"/tmp/outputs/Output_Name/data\", '\n",
       "                                                '\"kubeflow-user-example-com\"], '\n",
       "                                                '\"image\": '\n",
       "                                                '\"bitnami/kubectl:1.17.17\"}, '\n",
       "                                                '\"outputs\": {\"artifacts\": '\n",
       "                                                '[{\"name\": '\n",
       "                                                '\"create-persistentvolumeclaim-in-kubernetes-Output-Name\", '\n",
       "                                                '\"path\": '\n",
       "                                                '\"/tmp/outputs/Output_Name/data\"}]}, '\n",
       "                                                '\"metadata\": {\"annotations\": '\n",
       "                                                '{\"author\": \"Alexey Volkov '\n",
       "                                                '<alexey.volkov@ark-kun.com>\", '\n",
       "                                                '\"pipelines.kubeflow.org/component_spec\": '\n",
       "                                                '\"{\\\\\"implementation\\\\\": '\n",
       "                                                '{\\\\\"container\\\\\": '\n",
       "                                                '{\\\\\"command\\\\\": [\\\\\"bash\\\\\", '\n",
       "                                                '\\\\\"-exc\\\\\", '\n",
       "                                                '\\\\\"pvc_name=$0\\\\\\\\nstorage_size=$1\\\\\\\\noutput_name=$2\\\\\\\\nnamespace=$3\\\\\\\\nmkdir '\n",
       "                                                '-p \\\\\\\\\\\\\"$(dirname '\n",
       "                                                '\\\\\\\\\\\\\"$output_name\\\\\\\\\\\\\")\\\\\\\\\\\\\"\\\\\\\\nobject_path=$(mktemp)\\\\\\\\n\\\\\\\\ncat '\n",
       "                                                '<<EOF '\n",
       "                                                '>\\\\\\\\\\\\\"$object_path\\\\\\\\\\\\\"\\\\\\\\napiVersion: '\n",
       "                                                'v1\\\\\\\\nkind: '\n",
       "                                                'PersistentVolumeClaim\\\\\\\\nmetadata:\\\\\\\\n  '\n",
       "                                                'name: $pvc_name\\\\\\\\n  '\n",
       "                                                'annotations:\\\\\\\\n    '\n",
       "                                                'volume.beta.kubernetes.io/storage-class: '\n",
       "                                                'aws-efs\\\\\\\\nspec:\\\\\\\\n  '\n",
       "                                                'storageClassName: '\n",
       "                                                'aws-efs\\\\\\\\n  '\n",
       "                                                'accessModes:\\\\\\\\n  - '\n",
       "                                                'ReadWriteMany\\\\\\\\n  '\n",
       "                                                'resources:\\\\\\\\n    '\n",
       "                                                'requests:\\\\\\\\n      storage: '\n",
       "                                                '$storage_size\\\\\\\\nEOF\\\\\\\\nobject_name=$(kubectl '\n",
       "                                                'apply -f '\n",
       "                                                '\\\\\\\\\\\\\"$object_path\\\\\\\\\\\\\" '\n",
       "                                                '--namespace $namespace '\n",
       "                                                '--output=name)\\\\\\\\nobject_name=${object_name##persistentvolumeclaim/}\\\\\\\\necho '\n",
       "                                                '$object_name > '\n",
       "                                                '$output_name\\\\\\\\n\\\\\", '\n",
       "                                                '{\\\\\"inputValue\\\\\": \\\\\"PVC '\n",
       "                                                'Name\\\\\"}, {\\\\\"inputValue\\\\\": '\n",
       "                                                '\\\\\"Storage size\\\\\"}, '\n",
       "                                                '{\\\\\"outputPath\\\\\": \\\\\"Output '\n",
       "                                                'Name\\\\\"}, {\\\\\"inputValue\\\\\": '\n",
       "                                                '\\\\\"Namespace\\\\\"}], '\n",
       "                                                '\\\\\"image\\\\\": '\n",
       "                                                '\\\\\"bitnami/kubectl:1.17.17\\\\\"}}, '\n",
       "                                                '\\\\\"inputs\\\\\": [{\\\\\"name\\\\\": '\n",
       "                                                '\\\\\"PVC Name\\\\\", \\\\\"type\\\\\": '\n",
       "                                                '\\\\\"String\\\\\"}, '\n",
       "                                                '{\\\\\"default\\\\\": \\\\\"1Gi\\\\\", '\n",
       "                                                '\\\\\"name\\\\\": \\\\\"Storage '\n",
       "                                                'size\\\\\", \\\\\"type\\\\\": '\n",
       "                                                '\\\\\"String\\\\\"}, {\\\\\"name\\\\\": '\n",
       "                                                '\\\\\"Namespace\\\\\", \\\\\"type\\\\\": '\n",
       "                                                '\\\\\"string\\\\\"}], '\n",
       "                                                '\\\\\"metadata\\\\\": '\n",
       "                                                '{\\\\\"annotations\\\\\": '\n",
       "                                                '{\\\\\"author\\\\\": \\\\\"Alexey '\n",
       "                                                'Volkov '\n",
       "                                                '<alexey.volkov@ark-kun.com>\\\\\"}}, '\n",
       "                                                '\\\\\"name\\\\\": \\\\\"Create '\n",
       "                                                'PersistentVolumeClaim in '\n",
       "                                                'Kubernetes\\\\\", \\\\\"outputs\\\\\": '\n",
       "                                                '[{\\\\\"name\\\\\": \\\\\"Output '\n",
       "                                                'Name\\\\\", \\\\\"type\\\\\": '\n",
       "                                                '\\\\\"String\\\\\"}]}\", '\n",
       "                                                '\"pipelines.kubeflow.org/component_ref\": '\n",
       "                                                '\"{\\\\\"digest\\\\\": '\n",
       "                                                '\\\\\"afb7eab21a4c9562b611069dcaa11f7e4652f868d34703725c0d07907fb6de68\\\\\", '\n",
       "                                                '\\\\\"url\\\\\": '\n",
       "                                                '\\\\\"common/volume/component.yaml\\\\\"}\", '\n",
       "                                                '\"pipelines.kubeflow.org/arguments.parameters\": '\n",
       "                                                '\"{\\\\\"Namespace\\\\\": '\n",
       "                                                '\\\\\"kubeflow-user-example-com\\\\\", '\n",
       "                                                '\\\\\"PVC Name\\\\\": '\n",
       "                                                '\\\\\"dist-vol\\\\\", \\\\\"Storage '\n",
       "                                                'size\\\\\": \\\\\"20Gi\\\\\"}\"}, '\n",
       "                                                '\"labels\": '\n",
       "                                                '{\"pipelines.kubeflow.org/kfp_sdk_version\": '\n",
       "                                                '\"1.6.4\", '\n",
       "                                                '\"pipelines.kubeflow.org/pipeline-sdk-type\": '\n",
       "                                                '\"kfp\"}}}], \"arguments\": '\n",
       "                                                '{\"parameters\": []}, '\n",
       "                                                '\"serviceAccountName\": '\n",
       "                                                '\"pipeline-runner\"}}'},\n",
       "         'resource_references': [{'key': {'id': 'ba9b7266-2b1c-4729-afcd-be808c25c5af',\n",
       "                                          'type': 'EXPERIMENT'},\n",
       "                                  'name': 'Default',\n",
       "                                  'relationship': 'OWNER'}],\n",
       "         'scheduled_at': datetime.datetime(1970, 1, 1, 0, 0, tzinfo=tzlocal()),\n",
       "         'service_account': 'default-editor',\n",
       "         'status': 'Succeeded',\n",
       "         'storage_state': None}}"
      ]
     },
     "execution_count": 67,
     "metadata": {},
     "output_type": "execute_result"
    }
   ],
   "source": [
    "from kubernetes.client.models import V1Volume, V1PersistentVolumeClaimVolumeSource\n",
    "def create_dist_pipeline():\n",
    "    kubernetes_create_pvc_op(pvc_name=dist_volume, storage_size= \"20Gi\", namespace=NAMESPACE)\n",
    "\n",
    "create_volume_run = client.create_run_from_pipeline_func(create_dist_pipeline, arguments={})\n",
    "create_volume_run.wait_for_run_completion()"
   ]
  },
  {
   "cell_type": "markdown",
   "metadata": {},
   "source": [
    "## Define pipeline"
   ]
  },
  {
   "cell_type": "code",
   "execution_count": 122,
   "metadata": {},
   "outputs": [],
   "source": [
    "@dsl.pipeline(name=\"Training pipeline\", description=\"Sample training job test\")\n",
    "def pytorch_bert(\n",
    "    minio_endpoint=MINIO_ENDPOINT,\n",
    "    log_bucket=LOG_BUCKET,\n",
    "    log_dir=f\"tensorboard/logs/{dsl.RUN_ID_PLACEHOLDER}\",\n",
    "    mar_path=f\"mar/{dsl.RUN_ID_PLACEHOLDER}/model-store/\",\n",
    "    config_prop_path=f\"mar/{dsl.RUN_ID_PLACEHOLDER}/config/\",\n",
    "    model_uri=f\"pvc://{dist_volume}/mar/{dsl.RUN_ID_PLACEHOLDER}\",\n",
    "    tf_image=TENSORBOARD_IMAGE,\n",
    "    deploy=DEPLOY_NAME,\n",
    "    namespace=NAMESPACE,\n",
    "    confusion_matrix_log_dir=f\"confusion_matrix/{dsl.RUN_ID_PLACEHOLDER}/\",\n",
    "    num_samples=1000,\n",
    "    max_epochs=1,\n",
    "    gpus=1,\n",
    "    num_nodes=2\n",
    "):\n",
    "    \n",
    "    prepare_tb_task = prepare_tensorboard_op(\n",
    "        log_dir_uri=f\"s3://{log_bucket}/{log_dir}\",\n",
    "        image=tf_image,\n",
    "        pod_template_spec=json.dumps({\n",
    "            \"spec\": {\n",
    "                \"containers\": [{\n",
    "                    \"env\": [\n",
    "                        {\n",
    "                            \"name\": \"AWS_ACCESS_KEY_ID\",\n",
    "                            \"valueFrom\": {\n",
    "                                \"secretKeyRef\": {\n",
    "                                    \"name\": \"mlpipeline-minio-artifact\",\n",
    "                                    \"key\": \"accesskey\",\n",
    "                                }\n",
    "                            },\n",
    "                        },\n",
    "                        {\n",
    "                            \"name\": \"AWS_SECRET_ACCESS_KEY\",\n",
    "                            \"valueFrom\": {\n",
    "                                \"secretKeyRef\": {\n",
    "                                    \"name\": \"mlpipeline-minio-artifact\",\n",
    "                                    \"key\": \"secretkey\",\n",
    "                                }\n",
    "                            },\n",
    "                        },\n",
    "                        {\n",
    "                            \"name\": \"AWS_REGION\",\n",
    "                            \"value\": \"minio\"\n",
    "                        },\n",
    "                        {\n",
    "                            \"name\": \"S3_ENDPOINT\",\n",
    "                            \"value\": f\"{minio_endpoint}\",\n",
    "                        },\n",
    "                        {\n",
    "                            \"name\": \"S3_USE_HTTPS\",\n",
    "                            \"value\": \"0\"\n",
    "                        },\n",
    "                        {\n",
    "                            \"name\": \"S3_VERIFY_SSL\",\n",
    "                            \"value\": \"0\"\n",
    "                        },\n",
    "                    ]\n",
    "                }]\n",
    "            }\n",
    "        }),\n",
    "    ).set_display_name(\"Visualization\")\n",
    "\n",
    "    confusion_matrix_url = f\"minio://{log_bucket}/{confusion_matrix_log_dir}\"\n",
    "\n",
    "    prep_task = prep_op().after(prepare_tb_task).set_display_name(\"Preprocess & Transform\")\n",
    "    prep_task.execution_options.caching_strategy.max_cache_staleness = \"P0D\"\n",
    "    copy_task = cp_op(\"true\", prep_task.outputs['output_data'], \"/model/dataset\",\"\").add_pvolumes({\"/model\": dsl.PipelineVolume(pvc=dist_volume)}).after(prep_task).set_display_name(\"Copy Dataset\")\n",
    "    copy_task.execution_options.caching_strategy.max_cache_staleness = \"P0D\"\n",
    "    train_task = pytorch_job_op(\n",
    "        name=\"pytorch-bert\", \n",
    "        namespace=namespace, \n",
    "        master_spec=\n",
    "        {\n",
    "          \"replicas\": 1,\n",
    "          \"imagePullPolicy\": \"Always\",\n",
    "          \"restartPolicy\": \"OnFailure\",\n",
    "          \"template\": {\n",
    "            \"metadata\": {\n",
    "              \"annotations\": {\n",
    "                \"sidecar.istio.io/inject\": \"false\"\n",
    "              }\n",
    "            },\n",
    "            \"spec\": {\n",
    "              \"containers\": [\n",
    "                {\n",
    "                  \"name\": \"pytorch\",\n",
    "                  \"image\": \"jagadeeshj/pytorch_samples:v2.l-gpu\",\n",
    "                  \"command\": [\"python3\", \"bert/agnews_classification_pytorch.py\"],\n",
    "                  \"args\": [\n",
    "                    \"--dataset_path\", \"/model/dataset\",\n",
    "                    \"--checkpoint_dir\", \"/model/checkpoint\",\n",
    "                    \"--script_args\", f\"model_name=bert.pth,num_samples={num_samples},confusion_matrix_url={confusion_matrix_url}\",\n",
    "                    \"--tensorboard_root\", log_dir,\n",
    "                    \"--ptl_args\", f\"max_epochs={max_epochs},profiler=pytorch,gpus={gpus},accelerator=ddp,num_nodes={num_nodes}\"\n",
    "                  ],\n",
    "                  \"ports\": [\n",
    "                    {\n",
    "                      \"containerPort\": 24456,\n",
    "                      \"name\": \"pytorchjob-port\"\n",
    "                    }\n",
    "                  ],\n",
    "                  \"resources\": {\n",
    "                    \"limits\": {\n",
    "                      \"nvidia.com/gpu\": 1\n",
    "                    }\n",
    "                  },\n",
    "                  \"volumeMounts\": [\n",
    "                    {\n",
    "                      \"mountPath\": \"/model\",\n",
    "                      \"name\": \"model-volume\"\n",
    "                    }\n",
    "                  ]\n",
    "                }\n",
    "              ],\n",
    "              \"volumes\": [\n",
    "                {\n",
    "                  \"name\": \"model-volume\",\n",
    "                  \"persistentVolumeClaim\": {\n",
    "                    \"claimName\": dist_volume\n",
    "                  }\n",
    "                }\n",
    "              ]\n",
    "            }\n",
    "          }\n",
    "        }, \n",
    "        worker_spec=\n",
    "        {\n",
    "          \"replicas\": 1,\n",
    "          \"imagePullPolicy\": \"Always\",\n",
    "          \"restartPolicy\": \"OnFailure\",\n",
    "          \"template\": {\n",
    "            \"metadata\": {\n",
    "              \"annotations\": {\n",
    "                \"sidecar.istio.io/inject\": \"false\"\n",
    "              }\n",
    "            },\n",
    "            \"spec\": {\n",
    "              \"containers\": [\n",
    "                {\n",
    "                  \"name\": \"pytorch\",\n",
    "                  \"image\": \"jagadeeshj/pytorch_samples:v2.l-gpu\",\n",
    "                  \"command\": [\"python3\", \"bert/agnews_classification_pytorch.py\"],\n",
    "                  \"args\": [\n",
    "                    \"--dataset_path\", \"/model/dataset\",\n",
    "                    \"--checkpoint_dir\", \"/model/checkpoint\",\n",
    "                    \"--script_args\", f\"model_name=bert.pth,num_samples={num_samples},confusion_matrix_url={confusion_matrix_url}\",\n",
    "                    \"--tensorboard_root\", \"/model/tensorboard\",\n",
    "                    \"--ptl_args\", f\"max_epochs={max_epochs},profiler=pytorch,gpus={gpus},accelerator=ddp,num_nodes={num_nodes}\"\n",
    "                  ],\n",
    "                  \"ports\": [\n",
    "                    {\n",
    "                      \"containerPort\": 24456,\n",
    "                      \"name\": \"pytorchjob-port\"\n",
    "                    }\n",
    "                  ],\n",
    "                  \"resources\": {\n",
    "                    \"limits\": {\n",
    "                      \"nvidia.com/gpu\": 1\n",
    "                    }\n",
    "                  },\n",
    "                  \"volumeMounts\": [\n",
    "                    {\n",
    "                      \"mountPath\": \"/model\",\n",
    "                      \"name\": \"model-volume\"\n",
    "                    }\n",
    "                  ]\n",
    "                }\n",
    "              ],\n",
    "              \"volumes\": [\n",
    "                {\n",
    "                  \"name\": \"model-volume\",\n",
    "                  \"persistentVolumeClaim\": {\n",
    "                    \"claimName\": dist_volume\n",
    "                  }\n",
    "                }\n",
    "              ]\n",
    "            }\n",
    "          }\n",
    "        }\n",
    "    ).after(copy_task)\n",
    "    train_task.execution_options.caching_strategy.max_cache_staleness = \"P0D\"\n",
    "    \n",
    "    mar_folder_restructure_task = dsl.ContainerOp(\n",
    "            name='mar restructure',\n",
    "            image='library/bash:4.4.23',\n",
    "            command=['sh', '-c'],\n",
    "            arguments=[f'mkdir -p /model/{mar_path}; mkdir -p /model/{config_prop_path}; cp /model/checkpoint/*.mar /model/{mar_path}; cp /model/checkpoint/config.properties /model/{config_prop_path}']).add_pvolumes({\"/model\": dsl.PipelineVolume(pvc=dist_volume)}).after(train_task).set_display_name(\"Restructure MAR and config.properties path\")\n",
    "    mar_folder_restructure_task.execution_options.caching_strategy.max_cache_staleness = \"P0D\"\n",
    "    copy_tensorboard = cp_op(\"false\", \"\", \"\", \"/model/tensorboard\").add_pvolumes({\"/model\": dsl.PipelineVolume(pvc=dist_volume)}).after(mar_folder_restructure_task).set_display_name(\"Copy Tensorboard Logs\")\n",
    "    copy_tensorboard.execution_options.caching_strategy.max_cache_staleness = \"P0D\"\n",
    "\n",
    "    minio_tb_upload = (\n",
    "        minio_op(\n",
    "            bucket_name=log_bucket,\n",
    "            folder_name=log_dir,\n",
    "            input_path=copy_tensorboard.outputs[\"destination_path\"],\n",
    "            filename=\"\",\n",
    "        ).after(copy_tensorboard)\n",
    "        .set_display_name(\"Tensorboard Events Pusher\")\n",
    "    )\n",
    "    \n",
    "    # Deploy inferenceservice in gpu\n",
    "    gpu_count = \"1\"\n",
    "    isvc_gpu_yaml = \"\"\"\n",
    "    apiVersion: \"serving.kubeflow.org/v1beta1\"\n",
    "    kind: \"InferenceService\"\n",
    "    metadata:\n",
    "      name: {}\n",
    "      namespace: {}\n",
    "    spec:\n",
    "      predictor:\n",
    "        serviceAccountName: sa\n",
    "        pytorch:\n",
    "          storageUri: {}\n",
    "          resources:\n",
    "            limits:\n",
    "              memory: 4Gi   \n",
    "              nvidia.com/gpu: {}\n",
    "    \"\"\".format(\n",
    "        deploy, namespace, model_uri, gpu_count\n",
    "    )\n",
    "    \n",
    "    deploy_task = (\n",
    "        deploy_op(action=\"apply\", inferenceservice_yaml=isvc_gpu_yaml)\n",
    "        .after(minio_tb_upload)\n",
    "        .set_display_name(\"Deployer\")\n",
    "    )\n",
    "    deploy_task.execution_options.caching_strategy.max_cache_staleness = \"P0D\"\n",
    "    \n",
    "    dsl.get_pipeline_conf().add_op_transformer(\n",
    "        use_k8s_secret(\n",
    "            secret_name=\"mlpipeline-minio-artifact\",\n",
    "            k8s_secret_key_to_env={\n",
    "                \"secretkey\": \"MINIO_SECRET_KEY\",\n",
    "                \"accesskey\": \"MINIO_ACCESS_KEY\",\n",
    "            },\n",
    "        )\n",
    "    )"
   ]
  },
  {
   "cell_type": "code",
   "execution_count": 123,
   "metadata": {},
   "outputs": [],
   "source": [
    "# pipeline_conf = kfp.dsl.PipelineConf()\n",
    "# pipeline_conf.data_passing_method = volume_based_data_passing_method"
   ]
  },
  {
   "cell_type": "code",
   "execution_count": 124,
   "metadata": {},
   "outputs": [],
   "source": [
    "# Compile pipeline\n",
    "# compiler.Compiler().compile(pytorch_bert, 'pytorch.tar.gz', pipeline_conf=pipeline_conf, type_check=True)\n",
    "compiler.Compiler().compile(pytorch_bert, 'pytorch.tar.gz', type_check=True)"
   ]
  },
  {
   "cell_type": "code",
   "execution_count": 125,
   "metadata": {},
   "outputs": [
    {
     "data": {
      "text/html": [
       "<a href=\"http://istio-ingressgateway.istio-system.svc.cluster.local/pipeline/#/runs/details/20767504-335c-4e4e-b90a-1c9495c4c9fb\" target=\"_blank\" >Run details</a>."
      ],
      "text/plain": [
       "<IPython.core.display.HTML object>"
      ]
     },
     "metadata": {},
     "output_type": "display_data"
    }
   ],
   "source": [
    "# Execute pipeline\n",
    "run = client.run_pipeline(my_experiment.id, 'pytorch-bert', 'pytorch.tar.gz')"
   ]
  },
  {
   "cell_type": "markdown",
   "metadata": {},
   "source": [
    "## Wait for inference service below to go to `READY True` state."
   ]
  },
  {
   "cell_type": "code",
   "execution_count": 81,
   "metadata": {
    "scrolled": true
   },
   "outputs": [
    {
     "name": "stdout",
     "output_type": "stream",
     "text": [
      "NAME        URL   READY     PREV   LATEST   PREVROLLEDOUTREVISION   LATESTREADYREVISION   AGE\n",
      "bertserve         Unknown                                                                 75s\n"
     ]
    }
   ],
   "source": [
    "!kubectl get isvc $DEPLOY"
   ]
  },
  {
   "cell_type": "markdown",
   "metadata": {},
   "source": [
    "# Get Inferenceservice name"
   ]
  },
  {
   "cell_type": "code",
   "execution_count": 126,
   "metadata": {},
   "outputs": [
    {
     "data": {
      "text/plain": [
       "'bertserve.kubeflow-user-example-com.example.com'"
      ]
     },
     "execution_count": 126,
     "metadata": {},
     "output_type": "execute_result"
    }
   ],
   "source": [
    "INFERENCE_SERVICE_LIST = ! kubectl get isvc {DEPLOY_NAME} -n {NAMESPACE} -o json | python3 -c \"import sys, json; print(json.load(sys.stdin)['status']['url'])\"| tr -d '\"' | cut -d \"/\" -f 3\n",
    "INFERENCE_SERVICE_NAME = INFERENCE_SERVICE_LIST[0]\n",
    "INFERENCE_SERVICE_NAME"
   ]
  },
  {
   "cell_type": "markdown",
   "metadata": {},
   "source": [
    "# Prediction Request"
   ]
  },
  {
   "cell_type": "code",
   "execution_count": 127,
   "metadata": {},
   "outputs": [
    {
     "name": "stdout",
     "output_type": "stream",
     "text": [
      "  % Total    % Received % Xferd  Average Speed   Time    Time     Time  Current\n",
      "                                 Dload  Upload   Total   Spent    Left  Speed\n",
      "  0     0    0     0    0     0      0      0 --:--:-- --:--:-- --:--:--     0*   Trying 10.100.115.204:80...\n",
      "* TCP_NODELAY set\n",
      "* Connected to istio-ingressgateway.istio-system.svc.cluster.local (10.100.115.204) port 80 (#0)\n",
      "> POST /v1/models/bert:predict HTTP/1.1\n",
      "> Host: bertserve.kubeflow-user-example-com.example.com\n",
      "> User-Agent: curl/7.68.0\n",
      "> Accept: */*\n",
      "> Cookie: authservice_session=MTYyNTIzNTA3NHxOd3dBTkVFMVVWa3lVME5NVlU1U05scFRURUZIVEZKUVJFZFlURmRDUlRkS1VVOURXVmRWUlZWQ1dsVkdUa2MwVGpkSVNGTkdOVUU9fBAgszyYKCvL3VzWbK1_wa0iWvVljICLmD5H8TTSQw3n\n",
      "> Content-Length: 84\n",
      "> Content-Type: application/x-www-form-urlencoded\n",
      "> \n",
      "} [84 bytes data]\n",
      "* upload completely sent off: 84 out of 84 bytes\n",
      "* Mark bundle as not supporting multiuse\n",
      "< HTTP/1.1 200 OK\n",
      "< content-length: 33\n",
      "< content-type: application/json; charset=UTF-8\n",
      "< date: Fri, 02 Jul 2021 17:19:54 GMT\n",
      "< server: envoy\n",
      "< x-envoy-upstream-service-time: 175\n",
      "< \n",
      "{ [33 bytes data]\n",
      "100   117  100    33  100    84    182    464 --:--:-- --:--:-- --:--:--   646\n",
      "* Connection #0 to host istio-ingressgateway.istio-system.svc.cluster.local left intact\n"
     ]
    }
   ],
   "source": [
    "!curl -v -H \"Host: $INFERENCE_SERVICE_NAME\" -H \"Cookie: $COOKIE\" \"$INGRESS_GATEWAY/v1/models/$MODEL_NAME:predict\" -d @./bert/sample.txt > bert_prediction_output.json"
   ]
  },
  {
   "cell_type": "code",
   "execution_count": 128,
   "metadata": {},
   "outputs": [
    {
     "name": "stdout",
     "output_type": "stream",
     "text": [
      "{\"predictions\": [\"\\\"Sci/Tech\\\"\"]}"
     ]
    }
   ],
   "source": [
    "! cat bert_prediction_output.json"
   ]
  },
  {
   "cell_type": "markdown",
   "metadata": {},
   "source": [
    "# Explanation Request"
   ]
  },
  {
   "cell_type": "code",
   "execution_count": 129,
   "metadata": {
    "scrolled": true
   },
   "outputs": [
    {
     "name": "stdout",
     "output_type": "stream",
     "text": [
      "  % Total    % Received % Xferd  Average Speed   Time    Time     Time  Current\n",
      "                                 Dload  Upload   Total   Spent    Left  Speed\n",
      "  0     0    0     0    0     0      0      0 --:--:-- --:--:-- --:--:--     0*   Trying 10.100.115.204:80...\n",
      "* TCP_NODELAY set\n",
      "* Connected to istio-ingressgateway.istio-system.svc.cluster.local (10.100.115.204) port 80 (#0)\n",
      "> POST /v1/models/bert:explain HTTP/1.1\n",
      "> Host: bertserve.kubeflow-user-example-com.example.com\n",
      "> User-Agent: curl/7.68.0\n",
      "> Accept: */*\n",
      "> Cookie: authservice_session=MTYyNTIzNTA3NHxOd3dBTkVFMVVWa3lVME5NVlU1U05scFRURUZIVEZKUVJFZFlURmRDUlRkS1VVOURXVmRWUlZWQ1dsVkdUa2MwVGpkSVNGTkdOVUU9fBAgszyYKCvL3VzWbK1_wa0iWvVljICLmD5H8TTSQw3n\n",
      "> Content-Length: 84\n",
      "> Content-Type: application/x-www-form-urlencoded\n",
      "> \n",
      "} [84 bytes data]\n",
      "* upload completely sent off: 84 out of 84 bytes\n",
      "* Mark bundle as not supporting multiuse\n",
      "< HTTP/1.1 500 Internal Server Error\n",
      "< content-length: 93\n",
      "< content-type: text/html; charset=UTF-8\n",
      "< date: Fri, 02 Jul 2021 17:19:59 GMT\n",
      "< server: envoy\n",
      "< x-envoy-upstream-service-time: 401\n",
      "< \n",
      "{ [93 bytes data]\n",
      "100   177  100    93  100    84    230    207 --:--:-- --:--:-- --:--:--   438\n",
      "* Connection #0 to host istio-ingressgateway.istio-system.svc.cluster.local left intact\n"
     ]
    }
   ],
   "source": [
    "!curl -v -H \"Host: $INFERENCE_SERVICE_NAME\" -H \"Cookie: $COOKIE\" \"$INGRESS_GATEWAY/v1/models/$MODEL_NAME:explain\" -d @./bert/sample.txt  > bert_explaination_output.json"
   ]
  },
  {
   "cell_type": "code",
   "execution_count": 35,
   "metadata": {},
   "outputs": [
    {
     "name": "stdout",
     "output_type": "stream",
     "text": [
      "<html><title>500: Internal Server Error</title><body>500: Internal Server Error</body></html>"
     ]
    }
   ],
   "source": [
    "! cat bert_explaination_output.json"
   ]
  },
  {
   "cell_type": "code",
   "execution_count": 19,
   "metadata": {
    "scrolled": true,
    "tags": []
   },
   "outputs": [
    {
     "data": {
      "text/plain": [
       "{'explanations': [{'words': ['[CLS]',\n",
       "    'bloomberg',\n",
       "    'has',\n",
       "    'reported',\n",
       "    'on',\n",
       "    'the',\n",
       "    'economy',\n",
       "    '[SEP]'],\n",
       "   'importances': [0.49803253502586686,\n",
       "    -0.042289041470624116,\n",
       "    -0.2269101439114476,\n",
       "    0.15573707990586028,\n",
       "    0.0867725310070807,\n",
       "    0.17919607383818434,\n",
       "    0.5255456841947312,\n",
       "    -0.5988271940782108],\n",
       "   'delta': 0.12081503337965546}]}"
      ]
     },
     "execution_count": 19,
     "metadata": {},
     "output_type": "execute_result"
    }
   ],
   "source": [
    "explanations_json = json.loads(open(\"./bert_explaination_output.json\", \"r\").read())\n",
    "explanations_json"
   ]
  },
  {
   "cell_type": "code",
   "execution_count": 20,
   "metadata": {
    "tags": []
   },
   "outputs": [],
   "source": [
    "prediction_json = json.loads(open(\"./bert_prediction_output.json\", \"r\").read())"
   ]
  },
  {
   "cell_type": "code",
   "execution_count": 21,
   "metadata": {
    "tags": []
   },
   "outputs": [],
   "source": [
    "import torch\n",
    "attributions = explanations_json[\"explanations\"][0]['importances']\n",
    "tokens = explanations_json[\"explanations\"][0]['words']\n",
    "delta = explanations_json[\"explanations\"][0]['delta']\n",
    "\n",
    "attributions = torch.tensor(attributions)\n",
    "pred_prob = 0.75\n",
    "pred_class = prediction_json[\"predictions\"][0]\n",
    "true_class = \"Business\"\n",
    "attr_class =\"world\""
   ]
  },
  {
   "cell_type": "markdown",
   "metadata": {},
   "source": [
    "# Visualization of Predictions"
   ]
  },
  {
   "cell_type": "code",
   "execution_count": 23,
   "metadata": {
    "tags": []
   },
   "outputs": [],
   "source": [
    "from captum.attr import visualization\n",
    "vis_data_records =[]\n",
    "vis_data_records.append(visualization.VisualizationDataRecord(\n",
    "                            attributions,\n",
    "                            pred_prob,\n",
    "                            pred_class,\n",
    "                            true_class,\n",
    "                            attr_class,\n",
    "                            attributions.sum(),       \n",
    "                            tokens,\n",
    "                            delta))"
   ]
  },
  {
   "cell_type": "code",
   "execution_count": 24,
   "metadata": {},
   "outputs": [],
   "source": [
    "vis = visualization.visualize_text(vis_data_records)"
   ]
  },
  {
   "cell_type": "markdown",
   "metadata": {},
   "source": [
    "### visualization appreas as below\n",
    "![viz1.png](./viz1.png)"
   ]
  },
  {
   "cell_type": "markdown",
   "metadata": {},
   "source": [
    "## Cleanup Script"
   ]
  },
  {
   "cell_type": "code",
   "execution_count": 10,
   "metadata": {
    "scrolled": true
   },
   "outputs": [],
   "source": [
    "! kubectl delete --all isvc -n $NAMESPACE"
   ]
  },
  {
   "cell_type": "code",
   "execution_count": 11,
   "metadata": {},
   "outputs": [],
   "source": [
    "! kubectl delete pod --field-selector=status.phase==Succeeded -n $NAMESPACE"
   ]
  },
  {
   "cell_type": "code",
   "execution_count": null,
   "metadata": {},
   "outputs": [],
   "source": []
  }
 ],
 "metadata": {
  "kernelspec": {
   "display_name": "Python 3",
   "language": "python",
   "name": "python3"
  },
  "language_info": {
   "codemirror_mode": {
    "name": "ipython",
    "version": 3
   },
   "file_extension": ".py",
   "mimetype": "text/x-python",
   "name": "python",
   "nbconvert_exporter": "python",
   "pygments_lexer": "ipython3",
   "version": "3.8.8"
  }
 },
 "nbformat": 4,
 "nbformat_minor": 4
}
